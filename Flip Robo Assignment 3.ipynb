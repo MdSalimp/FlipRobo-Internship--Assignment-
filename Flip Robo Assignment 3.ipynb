{
 "cells": [
  {
   "cell_type": "code",
   "execution_count": 1,
   "id": "d2601df6",
   "metadata": {},
   "outputs": [],
   "source": [
    "import selenium\n",
    "from selenium import webdriver\n",
    "import pandas as pd\n",
    "from selenium.webdriver.common.by import By\n",
    "from selenium.common.exceptions import NoSuchElementException,StaleElementReferenceException\n",
    "import time\n",
    "\n",
    "import warnings\n",
    "warnings.filterwarnings('ignore')"
   ]
  },
  {
   "cell_type": "markdown",
   "id": "8a71f033",
   "metadata": {},
   "source": [
    "1. Write a python program which searches all the product under a particular product from www.amazon.in. The product to be searched will be taken as input from user. For e.g. If user input is ‘guitar’. Then search for guitars."
   ]
  },
  {
   "cell_type": "code",
   "execution_count": 2,
   "id": "e3ce9faf",
   "metadata": {},
   "outputs": [],
   "source": [
    "driver=webdriver.Chrome(r'E:\\google phots\\chromedriver_win32\\chromedriver.exe')\n",
    "driver.get('https://www.amazon.in')"
   ]
  },
  {
   "cell_type": "code",
   "execution_count": null,
   "id": "cc0559fa",
   "metadata": {},
   "outputs": [],
   "source": [
    "prod = input('Enter what you want to search :')"
   ]
  },
  {
   "cell_type": "code",
   "execution_count": null,
   "id": "3b3de834",
   "metadata": {},
   "outputs": [],
   "source": [
    "search = driver.find_element(By.XPATH,'/html/body/div[1]/header/div/div[1]/div[2]/div/form/div[2]/div[1]/input')\n",
    "search.send_keys(prod)\n",
    "search.submit()"
   ]
  },
  {
   "cell_type": "markdown",
   "id": "9f659cf1",
   "metadata": {},
   "source": [
    "2. In the above question, now scrape the following details of each product listed in first 3 pages of your search results and save it in a data frame and csv. In case if any product has less than 3 pages in search results then scrape all the products available under that product name. Details to be scraped are: \"Brand Name\", \"Name of the Product\", \"Price\", \"Return/Exchange\", \"Expected Delivery\", \"Availability\" and “Product URL”. In case, if any of the details are missing for any of the product then replace it by “-“."
   ]
  },
  {
   "cell_type": "code",
   "execution_count": null,
   "id": "22bff47c",
   "metadata": {},
   "outputs": [],
   "source": [
    "name,price,dilevery,url = [],[],[],[]\n",
    "for i in driver.find_elements(By.XPATH,\"//span[@class = 'a-size-base-plus a-color-base a-text-normal']\"):\n",
    "    name.append(i.text)\n",
    "for i in driver.find_elements(By.XPATH,\"//span[@class = 'a-price-whole']\"):\n",
    "    price.append(i.text)\n",
    "for i in driver.find_elements(By.XPATH,\"//span[@class = 'a-color-base a-text-bold']\"):\n",
    "    dilevery.append(i.text)\n",
    "for i in driver.find_elements(By.XPATH,\"//a[@class = 'a-link-normal s-underline-text s-underline-link-text s-link-style a-text-normal']\"):\n",
    "    url.append(i.get_attribute('href'))"
   ]
  },
  {
   "cell_type": "code",
   "execution_count": null,
   "id": "2eacb43b",
   "metadata": {},
   "outputs": [],
   "source": [
    "nex = driver.find_element(By.XPATH,'/html/body/div[1]/div[2]/div[1]/div[1]/div/span[3]/div[2]/div[66]/div/div/span/a[3]')\n",
    "nex.click()"
   ]
  },
  {
   "cell_type": "code",
   "execution_count": null,
   "id": "eea80400",
   "metadata": {},
   "outputs": [],
   "source": [
    "for i in driver.find_elements(By.XPATH,\"//span[@class = 'a-size-base-plus a-color-base a-text-normal']\"):\n",
    "    name.append(i.text)\n",
    "for i in driver.find_elements(By.XPATH,\"//span[@class = 'a-price-whole']\"):\n",
    "    price.append(i.text)\n",
    "for i in driver.find_elements(By.XPATH,\"//span[@class = 'a-color-base a-text-bold']\"):\n",
    "    dilevery.append(i.text)\n",
    "for i in driver.find_elements(By.XPATH,\"//a[@class = 'a-link-normal s-underline-text s-underline-link-text s-link-style a-text-normal']\"):\n",
    "    url.append(i.get_attribute('href'))"
   ]
  },
  {
   "cell_type": "code",
   "execution_count": null,
   "id": "afbf719a",
   "metadata": {},
   "outputs": [],
   "source": [
    "nex = driver.find_element(By.XPATH,'/html/body/div[1]/div[2]/div[1]/div[1]/div/span[3]/div[2]/div[65]/div/div/span/a[4]')\n",
    "nex.click()"
   ]
  },
  {
   "cell_type": "code",
   "execution_count": null,
   "id": "7fbc6675",
   "metadata": {},
   "outputs": [],
   "source": [
    "for i in driver.find_elements(By.XPATH,\"//span[@class = 'a-size-base-plus a-color-base a-text-normal']\"):\n",
    "    name.append(i.text)\n",
    "for i in driver.find_elements(By.XPATH,\"//span[@class = 'a-price-whole']\"):\n",
    "    price.append(i.text)\n",
    "for i in driver.find_elements(By.XPATH,\"//span[@class = 'a-color-base a-text-bold']\"):\n",
    "    dilevery.append(i.text)\n",
    "for i in driver.find_elements(By.XPATH,\"//a[@class = 'a-link-normal s-underline-text s-underline-link-text s-link-style a-text-normal']\"):\n",
    "    url.append(i.get_attribute('href'))"
   ]
  },
  {
   "cell_type": "code",
   "execution_count": null,
   "id": "f7d1b6da",
   "metadata": {},
   "outputs": [],
   "source": [
    "len(name),len(price),len(dilevery),len(url)"
   ]
  },
  {
   "cell_type": "code",
   "execution_count": null,
   "id": "85afc1e4",
   "metadata": {},
   "outputs": [],
   "source": [
    "guti = pd.DataFrame({'Brand Name':name[0:182],'Price':price[0:182],'Expected Dilevery':dilevery,'Product URL':url[0:182],'Availability':'Available'})"
   ]
  },
  {
   "cell_type": "code",
   "execution_count": null,
   "id": "20c376f0",
   "metadata": {},
   "outputs": [],
   "source": [
    "guti.to_csv('guitar.csv')"
   ]
  },
  {
   "cell_type": "code",
   "execution_count": null,
   "id": "dfcb3689",
   "metadata": {},
   "outputs": [],
   "source": [
    "df = pd.read_csv('guitar.csv')\n",
    "df"
   ]
  },
  {
   "cell_type": "code",
   "execution_count": null,
   "id": "ff96a35a",
   "metadata": {},
   "outputs": [],
   "source": [
    "driver.close()"
   ]
  },
  {
   "cell_type": "markdown",
   "id": "94d0de57",
   "metadata": {},
   "source": [
    "3. Write a python program to access the search bar and search button on images.google.com and scrape 10 images each for keywords ‘fruits’, ‘cars’ and ‘Machine Learning’, ‘Guitar’, ‘Cakes’."
   ]
  },
  {
   "cell_type": "code",
   "execution_count": null,
   "id": "49aa4c06",
   "metadata": {},
   "outputs": [],
   "source": [
    "driver=webdriver.Chrome(r'E:\\google phots\\chromedriver_win32\\chromedriver.exe')\n",
    "driver.get('https://images.google.com')"
   ]
  },
  {
   "cell_type": "code",
   "execution_count": null,
   "id": "3820fd4b",
   "metadata": {},
   "outputs": [],
   "source": [
    "search = driver.find_element(By.XPATH,'/html/body/div[1]/div[3]/form/div[1]/div[1]/div[1]/div/div[2]/input')\n",
    "search.send_keys('fruits')\n",
    "search.submit()"
   ]
  },
  {
   "cell_type": "code",
   "execution_count": null,
   "id": "dedb7311",
   "metadata": {},
   "outputs": [],
   "source": [
    "imag = []\n",
    "for i in driver.find_elements(By.XPATH,'//img[@class = \"rg_i Q4LuWd\"]'):\n",
    "    imag.append(i.get_attribute('src'))"
   ]
  },
  {
   "cell_type": "code",
   "execution_count": null,
   "id": "5e8adf0e",
   "metadata": {},
   "outputs": [],
   "source": [
    "search = driver.find_element(By.XPATH,'/html/body/c-wiz/c-wiz/div/div[3]/div[2]/div/div[1]/form/div[1]/div[2]/div/div[2]/input')\n",
    "search.clear()\n",
    "delay = 2\n",
    "search.send_keys('cars')\n",
    "search.submit()"
   ]
  },
  {
   "cell_type": "code",
   "execution_count": null,
   "id": "96c9fdd5",
   "metadata": {},
   "outputs": [],
   "source": [
    "car = []\n",
    "for i in driver.find_elements(By.XPATH,'//img[@class = \"rg_i Q4LuWd\"]'):\n",
    "    car.append(i.get_attribute('src'))"
   ]
  },
  {
   "cell_type": "code",
   "execution_count": null,
   "id": "96b53a8a",
   "metadata": {},
   "outputs": [],
   "source": [
    "search = driver.find_element(By.XPATH,'/html/body/c-wiz/c-wiz/div/div[3]/div[2]/div/div[1]/form/div[1]/div[2]/div/div[2]/input')\n",
    "search.clear()\n",
    "delay = 2\n",
    "search.send_keys('machine learning')\n",
    "search.submit()"
   ]
  },
  {
   "cell_type": "code",
   "execution_count": null,
   "id": "e8f6454d",
   "metadata": {},
   "outputs": [],
   "source": [
    "ml = []\n",
    "for i in driver.find_elements(By.XPATH,'//img[@class = \"rg_i Q4LuWd\"]'):\n",
    "    ml.append(i.get_attribute('src'))"
   ]
  },
  {
   "cell_type": "code",
   "execution_count": null,
   "id": "c285b819",
   "metadata": {},
   "outputs": [],
   "source": [
    "search = driver.find_element(By.XPATH,'/html/body/c-wiz/c-wiz/div/div[3]/div[2]/div/div[1]/form/div[1]/div[2]/div/div[2]/input')\n",
    "search.clear()\n",
    "delay = 2\n",
    "search.send_keys('guitar')\n",
    "search.submit()"
   ]
  },
  {
   "cell_type": "code",
   "execution_count": null,
   "id": "2e578f24",
   "metadata": {},
   "outputs": [],
   "source": [
    "guitar = []\n",
    "for i in driver.find_elements(By.XPATH,'//img[@class = \"rg_i Q4LuWd\"]'):\n",
    "    guitar.append(i.get_attribute('src'))"
   ]
  },
  {
   "cell_type": "code",
   "execution_count": null,
   "id": "ae95a115",
   "metadata": {},
   "outputs": [],
   "source": [
    "search = driver.find_element(By.XPATH,'/html/body/c-wiz/c-wiz/div/div[3]/div[2]/div/div[1]/form/div[1]/div[2]/div/div[2]/input')\n",
    "search.clear()\n",
    "delay = 2\n",
    "search.send_keys('cake')\n",
    "search.submit()"
   ]
  },
  {
   "cell_type": "code",
   "execution_count": null,
   "id": "bfad9158",
   "metadata": {},
   "outputs": [],
   "source": [
    "cake = []\n",
    "for i in driver.find_elements(By.XPATH,'//img[@class = \"rg_i Q4LuWd\"]'):\n",
    "    cake.append(i.get_attribute('src'))"
   ]
  },
  {
   "cell_type": "code",
   "execution_count": null,
   "id": "afe63f6f",
   "metadata": {},
   "outputs": [],
   "source": [
    "d = pd.DataFrame({'Fruits':imag[0:10],'Cars':car[0:10],'Machine Learning':ml[0:10],'Guitar':guitar[0:10],'Cake':cake[0:10]})"
   ]
  },
  {
   "cell_type": "code",
   "execution_count": null,
   "id": "cca42cac",
   "metadata": {},
   "outputs": [],
   "source": [
    "d.to_csv('image.csv')"
   ]
  },
  {
   "cell_type": "code",
   "execution_count": null,
   "id": "1fadf823",
   "metadata": {
    "scrolled": false
   },
   "outputs": [],
   "source": [
    "di = pd.read_csv('image.csv')\n",
    "di.drop('Unnamed: 0',axis =1)"
   ]
  },
  {
   "cell_type": "code",
   "execution_count": null,
   "id": "e44954ef",
   "metadata": {},
   "outputs": [],
   "source": [
    "driver.close()"
   ]
  },
  {
   "cell_type": "markdown",
   "id": "b09ac080",
   "metadata": {},
   "source": [
    "4. Write a python program to search for a smartphone(e.g.: Oneplus Nord, pixel 4A, etc.) on www.flipkart.com and scrape following details for all the search results displayed on 1st page. Details to be scraped: “Brand Name”, “Smartphone name”, “Colour”, “RAM”, “Storage(ROM)”, “Primary Camera”, “Secondary Camera”, “Display Size”, “Battery Capacity”, “Price”, “Product URL”. Incase if any of the details is missing then replace it by “- “. Save your results in a dataframe and CSV."
   ]
  },
  {
   "cell_type": "code",
   "execution_count": null,
   "id": "e43ce5de",
   "metadata": {},
   "outputs": [],
   "source": [
    "driver=webdriver.Chrome(r'E:\\google phots\\chromedriver_win32\\chromedriver.exe')\n",
    "driver.get('https:www.flipkart.com')"
   ]
  },
  {
   "cell_type": "code",
   "execution_count": null,
   "id": "1a07867f",
   "metadata": {},
   "outputs": [],
   "source": [
    "close = driver.find_element(By.XPATH,'/html/body/div[2]/div/div/button')\n",
    "close.click()"
   ]
  },
  {
   "cell_type": "code",
   "execution_count": null,
   "id": "2f269dc0",
   "metadata": {},
   "outputs": [],
   "source": [
    "search = driver.find_element(By.XPATH,'/html/body/div[1]/div/div[1]/div[1]/div[2]/div[2]/form/div/div/input')\n",
    "search.send_keys('oneplus nord')\n",
    "search.submit()"
   ]
  },
  {
   "cell_type": "code",
   "execution_count": null,
   "id": "e1587757",
   "metadata": {},
   "outputs": [],
   "source": [
    "brand,name,color = [],[],[]\n",
    "for i in driver.find_elements(By.XPATH,'//div[@class = \"_4rR01T\"]'):\n",
    "    brand.append(i.text.split(' ')[0])\n",
    "    name.append(i.text)\n",
    "    co = i.text.split('(')[-1]\n",
    "    color.append(co.split(',')[0])"
   ]
  },
  {
   "cell_type": "code",
   "execution_count": null,
   "id": "332ae4e5",
   "metadata": {},
   "outputs": [],
   "source": [
    "ram,rom,pc,display,battery = [],[],[],[],[]\n",
    "for i in driver.find_elements(By.XPATH,'//ul[@class=\"_1xgFaf\"]'):\n",
    "    display.append(i.text.split('\\n')[1])\n",
    "    battery.append(i.text.split('\\n')[-2])\n",
    "    \n",
    "    ra = i.text.split('\\n')[0]\n",
    "    ram.append(ra.split('|')[0])\n",
    "    rom.append(ra.split('|')[1])\n",
    "    \n",
    "    cam = i.text.split('\\n')[2]\n",
    "    pc.append(cam.split('|')[0])"
   ]
  },
  {
   "cell_type": "code",
   "execution_count": null,
   "id": "0c2726a9",
   "metadata": {},
   "outputs": [],
   "source": [
    "price,link = [],[]\n",
    "for i in driver.find_elements(By.XPATH,'//div[@class=\"_30jeq3 _1_WHN1\"]'):\n",
    "    price.append(i.text)\n",
    "for i in driver.find_elements(By.XPATH,\"//a[@class = '_1fQZEK']\"):\n",
    "    link.append(i.get_attribute('href'))"
   ]
  },
  {
   "cell_type": "code",
   "execution_count": null,
   "id": "21c831bb",
   "metadata": {},
   "outputs": [],
   "source": [
    "len(brand),len(name),len(color),len(ram),len(rom),len(pc),len(display),len(battery),len(price),len(link)"
   ]
  },
  {
   "cell_type": "code",
   "execution_count": null,
   "id": "d4c0259b",
   "metadata": {},
   "outputs": [],
   "source": [
    "pho = pd.DataFrame({'Brand Name':brand,'Smartphone Name':name,'Color':color,'RAM':ram,'Storage(ROM)':rom,'Camera':pc,'Display':display,'Battery':battery,'Price':price,'URL':link})"
   ]
  },
  {
   "cell_type": "code",
   "execution_count": null,
   "id": "87ef1904",
   "metadata": {},
   "outputs": [],
   "source": [
    "pho.to_csv('Phone.csv')"
   ]
  },
  {
   "cell_type": "code",
   "execution_count": null,
   "id": "d335a565",
   "metadata": {},
   "outputs": [],
   "source": [
    "pd.read_csv('Phone.csv').head()"
   ]
  },
  {
   "cell_type": "code",
   "execution_count": null,
   "id": "c6247290",
   "metadata": {},
   "outputs": [],
   "source": [
    "driver.close()"
   ]
  },
  {
   "cell_type": "markdown",
   "id": "3133bd26",
   "metadata": {},
   "source": [
    "5. Write a program to scrap geospatial coordinates (latitude, longitude) of a city searched on google maps."
   ]
  },
  {
   "cell_type": "code",
   "execution_count": null,
   "id": "1a772b50",
   "metadata": {},
   "outputs": [],
   "source": [
    "driver=webdriver.Chrome(r'E:\\google phots\\chromedriver_win32\\chromedriver.exe')\n",
    "driver.get('https://www.google.com/maps')"
   ]
  },
  {
   "cell_type": "code",
   "execution_count": null,
   "id": "0ccb715b",
   "metadata": {},
   "outputs": [],
   "source": [
    "search = driver.find_element(By.XPATH,'/html/body/div[3]/div[9]/div[3]/div[1]/div[1]/div[1]/div[2]/form/div[2]/div[3]/div/input[1]')\n",
    "search.send_keys('Mumbai')"
   ]
  },
  {
   "cell_type": "code",
   "execution_count": null,
   "id": "c132bc55",
   "metadata": {},
   "outputs": [],
   "source": [
    "loc = driver.find_element(By.XPATH,'/html/body/div[3]/div[9]/div[3]/div[1]/div[1]/div[2]/div[2]/div[1]/div/div/div[1]/div/div[2]/div/div/div[1]')\n",
    "loc.click()"
   ]
  },
  {
   "cell_type": "code",
   "execution_count": null,
   "id": "9140a720",
   "metadata": {},
   "outputs": [],
   "source": [
    "time.sleep(5)\n",
    "url = driver.current_url"
   ]
  },
  {
   "cell_type": "code",
   "execution_count": null,
   "id": "24c525c4",
   "metadata": {},
   "outputs": [],
   "source": [
    "ll = url.split('/')[-2]"
   ]
  },
  {
   "cell_type": "code",
   "execution_count": null,
   "id": "c1df4229",
   "metadata": {},
   "outputs": [],
   "source": [
    "lat = ll.split(',')[0].replace('@','')\n",
    "lon = ll.split(',')[1]"
   ]
  },
  {
   "cell_type": "code",
   "execution_count": null,
   "id": "4905849b",
   "metadata": {},
   "outputs": [],
   "source": [
    "print('Latitude = ',lat)\n",
    "print('Longitude = ',lon)"
   ]
  },
  {
   "cell_type": "code",
   "execution_count": null,
   "id": "7c95b5d6",
   "metadata": {},
   "outputs": [],
   "source": [
    "driver.close()"
   ]
  },
  {
   "cell_type": "markdown",
   "id": "9fc03aea",
   "metadata": {},
   "source": [
    "6. Write a program to scrap details of all the funding deals for second quarter (i.e Jan 21 – March 21) from trak.in."
   ]
  },
  {
   "cell_type": "code",
   "execution_count": null,
   "id": "d2eb11f3",
   "metadata": {},
   "outputs": [],
   "source": [
    "driver=webdriver.Chrome(r'E:\\google phots\\chromedriver_win32\\chromedriver.exe')\n",
    "driver.get('https://www.trak.in')"
   ]
  },
  {
   "cell_type": "code",
   "execution_count": null,
   "id": "c3993c9b",
   "metadata": {},
   "outputs": [],
   "source": [
    "button = driver.find_element(By.XPATH,'//li[@id=\"menu-item-51510\"]/a').get_attribute('href')\n",
    "driver.get(button)"
   ]
  },
  {
   "cell_type": "code",
   "execution_count": null,
   "id": "39f48c21",
   "metadata": {},
   "outputs": [],
   "source": [
    "jan = driver.find_element(By.XPATH,'//h2[@class=\"tablepress-table-name tablepress-table-name-id-54\"]')"
   ]
  },
  {
   "cell_type": "code",
   "execution_count": null,
   "id": "2673468f",
   "metadata": {},
   "outputs": [],
   "source": [
    "ta= driver.find_element(By.XPATH,'//div[@id = \"tablepress-54_wrapper\"]')"
   ]
  },
  {
   "cell_type": "code",
   "execution_count": null,
   "id": "330ac009",
   "metadata": {},
   "outputs": [],
   "source": [
    "january = ta.text.split('\\n')[8:17]"
   ]
  },
  {
   "cell_type": "code",
   "execution_count": null,
   "id": "3a9e5a07",
   "metadata": {},
   "outputs": [],
   "source": [
    "time.sleep(2)\n",
    "feb = driver.find_element(By.XPATH,'//h2[@class=\"tablepress-table-name tablepress-table-name-id-55\"]')"
   ]
  },
  {
   "cell_type": "code",
   "execution_count": null,
   "id": "051465f4",
   "metadata": {},
   "outputs": [],
   "source": [
    "ta2= driver.find_element(By.XPATH,'//div[@id = \"tablepress-55_wrapper\"]')"
   ]
  },
  {
   "cell_type": "code",
   "execution_count": null,
   "id": "47139193",
   "metadata": {},
   "outputs": [],
   "source": [
    "february = ta2.text.split('\\n')[8:17]"
   ]
  },
  {
   "cell_type": "code",
   "execution_count": null,
   "id": "50c71e35",
   "metadata": {},
   "outputs": [],
   "source": [
    "time.sleep(2)\n",
    "mar = driver.find_element(By.XPATH,'//h2[@class=\"tablepress-table-name tablepress-table-name-id-56\"]')"
   ]
  },
  {
   "cell_type": "code",
   "execution_count": null,
   "id": "e07e8025",
   "metadata": {},
   "outputs": [],
   "source": [
    "ta3 = driver.find_element(By.XPATH,'//div[@id = \"tablepress-56_wrapper\"]')"
   ]
  },
  {
   "cell_type": "code",
   "execution_count": null,
   "id": "341c4763",
   "metadata": {},
   "outputs": [],
   "source": [
    "march = ta3.text.split('\\n')[8:17]"
   ]
  },
  {
   "cell_type": "code",
   "execution_count": null,
   "id": "facda40d",
   "metadata": {},
   "outputs": [],
   "source": [
    "funding = pd.DataFrame({'January':january,'February':february,'March':march})\n",
    "funding"
   ]
  },
  {
   "cell_type": "markdown",
   "id": "00cfe982",
   "metadata": {},
   "source": [
    "7. Write a program to scrap all the available details of best gaming laptops from digit.in."
   ]
  },
  {
   "cell_type": "code",
   "execution_count": null,
   "id": "67c8533e",
   "metadata": {},
   "outputs": [],
   "source": [
    "driver=webdriver.Chrome(r'E:\\google phots\\chromedriver_win32\\chromedriver.exe')\n",
    "driver.get('https://www.digit.in')"
   ]
  },
  {
   "cell_type": "code",
   "execution_count": null,
   "id": "0963f803",
   "metadata": {},
   "outputs": [],
   "source": [
    "search = driver.find_element(By.XPATH,'/html/body/div[1]/div/div[3]/div[2]/a/img')\n",
    "search.click()\n",
    "delay = 2\n",
    "here = driver.find_element(By.XPATH,'/html/body/div[2]/div[2]/div/div/input')\n",
    "here.send_keys('Best gaming laptop' + '\\n')"
   ]
  },
  {
   "cell_type": "code",
   "execution_count": null,
   "id": "fd8ddb32",
   "metadata": {},
   "outputs": [],
   "source": [
    "laptop,date = [],[]\n",
    "for i in driver.find_elements(By.XPATH,'//div[@class=\"searchProduct-desc\"]'):\n",
    "    laptop.append(i.text)\n",
    "for i in driver.find_elements(By.XPATH,'//div[@class = \"searchPage\"]'):\n",
    "    date.append(i.text.split('\\n')[-1])"
   ]
  },
  {
   "cell_type": "code",
   "execution_count": null,
   "id": "c3dea952",
   "metadata": {},
   "outputs": [],
   "source": [
    "len(date),len(laptop)"
   ]
  },
  {
   "cell_type": "code",
   "execution_count": null,
   "id": "25d0b904",
   "metadata": {},
   "outputs": [],
   "source": [
    "dig = pd.DataFrame({'Laptop Name':laptop,'Date':date})"
   ]
  },
  {
   "cell_type": "code",
   "execution_count": null,
   "id": "62c01bd7",
   "metadata": {},
   "outputs": [],
   "source": [
    "dig.to_csv('digit.csv')"
   ]
  },
  {
   "cell_type": "code",
   "execution_count": null,
   "id": "b52af895",
   "metadata": {},
   "outputs": [],
   "source": [
    "pd.read_csv('digit.csv').head()"
   ]
  },
  {
   "cell_type": "markdown",
   "id": "d670a230",
   "metadata": {},
   "source": [
    "8. Write a python program to scrape the details for all billionaires from www.forbes.com. Details to be\n",
    "scrapped: “Rank”, “Name”, “Net worth”, “Age”, “Citizenship”, “Source”, “Industry”."
   ]
  },
  {
   "cell_type": "code",
   "execution_count": null,
   "id": "0190bc96",
   "metadata": {},
   "outputs": [],
   "source": [
    "driver=webdriver.Chrome(r'E:\\google phots\\chromedriver_win32\\chromedriver.exe')\n",
    "driver.get('https://www.forbes.com')"
   ]
  },
  {
   "cell_type": "code",
   "execution_count": null,
   "id": "958c67c5",
   "metadata": {},
   "outputs": [],
   "source": [
    "expl = driver.find_element(By.XPATH,'/html/body/div[1]/header/nav/div[1]/button[1]')\n",
    "expl.click()\n",
    "time.sleep(2)"
   ]
  },
  {
   "cell_type": "code",
   "execution_count": null,
   "id": "31fae77e",
   "metadata": {},
   "outputs": [],
   "source": [
    "bill = driver.find_element(By.XPATH,'/html/body/div[1]/header/nav/div[3]/ul/li[1]')\n",
    "bill.click()"
   ]
  },
  {
   "cell_type": "code",
   "execution_count": null,
   "id": "f3f13b9c",
   "metadata": {},
   "outputs": [],
   "source": [
    "al = driver.find_element(By.XPATH,'/html/body/div[1]/header/nav/div[3]/ul/li[1]/div[2]/ul/li[2]/a')\n",
    "al.click()\n",
    "time.sleep(2)"
   ]
  },
  {
   "cell_type": "code",
   "execution_count": null,
   "id": "0c7f6ef9",
   "metadata": {},
   "outputs": [],
   "source": [
    "rank,nam,net,age,sou,indust = [],[],[],[],[],[]\n",
    "for i in driver.find_elements(By.XPATH,'//div[@class=\"table-row \"]'):\n",
    "    rank.append(i.text.split('\\n')[0])\n",
    "    nam.append(i.text.split('\\n')[1])\n",
    "    net.append(i.text.split('\\n')[2])\n",
    "    age.append(i.text.split('\\n')[3])\n",
    "    sou.append(i.text.split('\\n')[4])\n",
    "    indust.append(i.text.split('\\n')[5])"
   ]
  },
  {
   "cell_type": "code",
   "execution_count": null,
   "id": "e2022c94",
   "metadata": {
    "scrolled": false
   },
   "outputs": [],
   "source": [
    "len(rank),len(nam),len(net),len(age),len(sou),len(indust)"
   ]
  },
  {
   "cell_type": "code",
   "execution_count": null,
   "id": "bca193aa",
   "metadata": {},
   "outputs": [],
   "source": [
    "billa = pd.DataFrame({'Rank':rank,'Name':nam,'Net Worth':net,'Age':age,'Source':sou,'Industry':indust})"
   ]
  },
  {
   "cell_type": "code",
   "execution_count": null,
   "id": "6d2ea2d6",
   "metadata": {},
   "outputs": [],
   "source": [
    "billa.to_csv('Billionaries.csv')"
   ]
  },
  {
   "cell_type": "code",
   "execution_count": null,
   "id": "0f7503bb",
   "metadata": {},
   "outputs": [],
   "source": [
    "pd.read_csv('Billionaries.csv').head()"
   ]
  },
  {
   "cell_type": "code",
   "execution_count": null,
   "id": "b41bae1e",
   "metadata": {},
   "outputs": [],
   "source": [
    "driver.close()"
   ]
  },
  {
   "cell_type": "markdown",
   "id": "2dbccbbd",
   "metadata": {},
   "source": [
    "9. Write a program to extract at least 500 Comments, Comment upvote and time when comment was posted\n",
    "from any YouTube Video."
   ]
  },
  {
   "cell_type": "code",
   "execution_count": null,
   "id": "7627c193",
   "metadata": {},
   "outputs": [],
   "source": [
    "driver=webdriver.Chrome(r'E:\\google phots\\chromedriver_win32\\chromedriver.exe')\n",
    "driver.get('https://www.youtube.com')"
   ]
  },
  {
   "cell_type": "code",
   "execution_count": null,
   "id": "c0119369",
   "metadata": {},
   "outputs": [],
   "source": [
    "search = driver.find_element(By.XPATH,'/html/body/ytd-app/div[1]/div/ytd-masthead/div[3]/div[2]/ytd-searchbox/form/div[1]/div[1]/input')\n",
    "search.send_keys('Chaand Baaliyan - Aditya A. (Official Video)')\n",
    "search.submit()\n",
    "delay = 5"
   ]
  },
  {
   "cell_type": "code",
   "execution_count": null,
   "id": "009596e2",
   "metadata": {},
   "outputs": [],
   "source": [
    "song = driver.find_element(By.XPATH,'/html/body/ytd-app/div[1]/ytd-page-manager/ytd-search/div[1]/ytd-two-column-search-results-renderer/div/ytd-section-list-renderer/div[2]/ytd-item-section-renderer/div[3]/ytd-video-renderer[1]/div[1]/div/div[1]/div/h3/a/yt-formatted-string')\n",
    "song.click()"
   ]
  },
  {
   "cell_type": "code",
   "execution_count": null,
   "id": "3c550aa1",
   "metadata": {},
   "outputs": [],
   "source": [
    "for _ in range(1000):\n",
    "    driver.execute_script(\"window.scrollBy(0,1000)\")"
   ]
  },
  {
   "cell_type": "code",
   "execution_count": null,
   "id": "a99a73cf",
   "metadata": {},
   "outputs": [],
   "source": [
    "op = []\n",
    "for i in driver.find_elements(By.XPATH,'//div[@class=\"style-scope ytd-expander\"]'):\n",
    "    op.append(i.text)"
   ]
  },
  {
   "cell_type": "code",
   "execution_count": null,
   "id": "f6cf0409",
   "metadata": {},
   "outputs": [],
   "source": [
    "time = []\n",
    "for i in driver.find_elements(By.XPATH,'//a[@class=\"yt-simple-endpoint style-scope yt-formatted-string\"]'):\n",
    "    time.append(i.text)"
   ]
  },
  {
   "cell_type": "code",
   "execution_count": null,
   "id": "d673cf59",
   "metadata": {},
   "outputs": [],
   "source": [
    "ti = time[79:579]"
   ]
  },
  {
   "cell_type": "code",
   "execution_count": null,
   "id": "b030aaa7",
   "metadata": {},
   "outputs": [],
   "source": [
    "co = op[2:502]"
   ]
  },
  {
   "cell_type": "code",
   "execution_count": null,
   "id": "e297afb8",
   "metadata": {},
   "outputs": [],
   "source": [
    "len(ti),len(co)"
   ]
  },
  {
   "cell_type": "code",
   "execution_count": null,
   "id": "548f1c62",
   "metadata": {},
   "outputs": [],
   "source": [
    "comment = pd.DataFrame({'Comments':co,'Time':ti})"
   ]
  },
  {
   "cell_type": "code",
   "execution_count": null,
   "id": "034c6c89",
   "metadata": {},
   "outputs": [],
   "source": [
    "comment.to_csv('Youtube.csv')"
   ]
  },
  {
   "cell_type": "code",
   "execution_count": null,
   "id": "b97e988c",
   "metadata": {},
   "outputs": [],
   "source": [
    "df = pd.read_csv('Youtube.csv')\n",
    "df.tail()"
   ]
  },
  {
   "cell_type": "markdown",
   "id": "94de7b6a",
   "metadata": {},
   "source": [
    "10. Write a python program to scrape a data for all available Hostels from https://www.hostelworld.com/ in\n",
    "“London” location. You have to scrape hostel name, distance from city centre, ratings, total reviews, overall reviews, privates from price, dorms from price, facilities and property description"
   ]
  },
  {
   "cell_type": "code",
   "execution_count": null,
   "id": "9c2978a0",
   "metadata": {},
   "outputs": [],
   "source": [
    "driver=webdriver.Chrome(r'E:\\google phots\\chromedriver_win32\\chromedriver.exe')\n",
    "driver.get('https://www.hostelworld.com')"
   ]
  },
  {
   "cell_type": "code",
   "execution_count": null,
   "id": "115fffa7",
   "metadata": {},
   "outputs": [],
   "source": [
    "try:\n",
    "    search = driver.find_element(By.XPATH,'/html/body/div[3]/div/div/div[1]/div[1]/div/div[2]/div[4]/div/div[2]/div/div[1]/div/div/div/input')\n",
    "    search.send_keys('london' + '\\n')\n",
    "    \n",
    "    lon = driver.find_element(By.XPATH,'/html/body/div[3]/div/div/div[1]/div[1]/div/div[2]/div[4]/div/div[2]/div/div[1]/div/div/ul/li[2]')\n",
    "    lon.click()\n",
    "    \n",
    "    \n",
    "    go = driver.find_element(By.XPATH,'/html/body/div[3]/div/div/div[1]/div[1]/div/div[2]/div[4]/div/div[2]/div/div[5]/button')\n",
    "    go.click()\n",
    "    \n",
    "    \n",
    "except NoSuchElementException:\n",
    "    driver.get('https://www.hostelworld.com/s?q=London,%20England&country=England&city=London&type=city&id=3&from=2022-08-01&to=2022-08-04&guests=2&HostelNumber=&page=1')"
   ]
  },
  {
   "cell_type": "code",
   "execution_count": null,
   "id": "705c81a0",
   "metadata": {},
   "outputs": [],
   "source": [
    "name,dist,rat,price = [],[],[],[]\n",
    "for i in driver.find_elements(By.XPATH,'//div[@class=\"property\"]'):\n",
    "    name.append(i.text.split('\\n')[0])\n",
    "    dist.append(i.text.split('\\n')[1])\n",
    "    rat.append(i.text.split('\\n')[-3])\n",
    "    review.append(i.text.split('\\n')[-1])\n",
    "for i in driver.find_elements(By.XPATH,'//div[@class=\"price title-5\"]'):\n",
    "    price.append(i.text)"
   ]
  },
  {
   "cell_type": "code",
   "execution_count": null,
   "id": "af29b8f8",
   "metadata": {},
   "outputs": [],
   "source": [
    "len(name),len(dist),len(rat),len(price)"
   ]
  },
  {
   "cell_type": "code",
   "execution_count": null,
   "id": "afa348bb",
   "metadata": {},
   "outputs": [],
   "source": [
    "lin,des,fac,review = [],[],[],[]\n",
    "url = driver.find_elements(By.XPATH,'//a[@class=\"view-button\"]')\n",
    "for i in url:\n",
    "    lin.append(i.get_attribute('href'))"
   ]
  },
  {
   "cell_type": "code",
   "execution_count": null,
   "id": "58b1ee63",
   "metadata": {},
   "outputs": [],
   "source": [
    "for i in lin:\n",
    "    driver.get(i)\n",
    "    time.sleep(2)\n",
    "    try:\n",
    "        de = driver.find_element(By.XPATH,'/html/body/div[3]/div/div/div[1]/section/div[6]/div/div[2]/div/div/div[2]')\n",
    "        des.append(de.text)\n",
    "        \n",
    "        fa = driver.find_element(By.XPATH,'/html/body/div[3]/div/div/div[1]/section/div[10]/div/ul')\n",
    "        fac.append(fa.text.replace('\\n',','))\n",
    "        \n",
    "        re = driver.find_element(By.XPATH,'/html/body/div[3]/div/div/div[1]/section/div[9]/div[1]/div/div[1]')\n",
    "        review.append(re.text)\n",
    "        \n",
    "    except NoSuchElementException:\n",
    "        des.append('-')"
   ]
  },
  {
   "cell_type": "code",
   "execution_count": null,
   "id": "f00097db",
   "metadata": {},
   "outputs": [],
   "source": [
    "len(fac),len(des),len(review)"
   ]
  },
  {
   "cell_type": "code",
   "execution_count": null,
   "id": "fff7a2ea",
   "metadata": {},
   "outputs": [],
   "source": [
    "lon = pd.DataFrame({'Hostel Name':name[0:30], 'Distance from City Centre':dist[0:30], 'Rating':rat[0:30], 'Price':price[0:30], 'Facilities':fac[0:30], 'Property Description':des[0:30]})"
   ]
  },
  {
   "cell_type": "code",
   "execution_count": null,
   "id": "6452e341",
   "metadata": {},
   "outputs": [],
   "source": [
    "lon.to_csv('Hostel.csv')"
   ]
  },
  {
   "cell_type": "code",
   "execution_count": null,
   "id": "1f87c0fb",
   "metadata": {},
   "outputs": [],
   "source": [
    "df = pd.read_csv('Hostel.csv')\n",
    "df.head(5)"
   ]
  },
  {
   "cell_type": "code",
   "execution_count": null,
   "id": "135544ed",
   "metadata": {},
   "outputs": [],
   "source": [
    "driver.close()"
   ]
  }
 ],
 "metadata": {
  "kernelspec": {
   "display_name": "Python 3 (ipykernel)",
   "language": "python",
   "name": "python3"
  },
  "language_info": {
   "codemirror_mode": {
    "name": "ipython",
    "version": 3
   },
   "file_extension": ".py",
   "mimetype": "text/x-python",
   "name": "python",
   "nbconvert_exporter": "python",
   "pygments_lexer": "ipython3",
   "version": "3.9.7"
  }
 },
 "nbformat": 4,
 "nbformat_minor": 5
}
