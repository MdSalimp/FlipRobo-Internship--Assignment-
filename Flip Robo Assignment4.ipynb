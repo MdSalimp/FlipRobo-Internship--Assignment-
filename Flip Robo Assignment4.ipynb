{
 "cells": [
  {
   "cell_type": "code",
   "execution_count": 34,
   "id": "8f3289d6",
   "metadata": {},
   "outputs": [],
   "source": [
    "import selenium\n",
    "from selenium import webdriver\n",
    "import pandas as pd\n",
    "from selenium.webdriver.common.by import By\n",
    "from selenium.common.exceptions import WebDriverException,NoSuchElementException\n",
    "\n",
    "import warnings\n",
    "warnings.filterwarnings('ignore')"
   ]
  },
  {
   "cell_type": "code",
   "execution_count": 35,
   "id": "eab87155",
   "metadata": {},
   "outputs": [
    {
     "data": {
      "text/plain": [
       "'1. Scrape the details of most viewed videos on YouTube from Wikipedia.\\nUrl = https://en.wikipedia.org/wiki/List_of_most-viewed_YouTube_videos\\nYou need to find following details: A) Rank\\nB) Name\\nC) Artist\\nD) Upload date \\nE) Views'"
      ]
     },
     "execution_count": 35,
     "metadata": {},
     "output_type": "execute_result"
    }
   ],
   "source": [
    "'''1. Scrape the details of most viewed videos on YouTube from Wikipedia.\n",
    "Url = https://en.wikipedia.org/wiki/List_of_most-viewed_YouTube_videos\n",
    "You need to find following details: A) Rank\n",
    "B) Name\n",
    "C) Artist\n",
    "D) Upload date \n",
    "E) Views'''"
   ]
  },
  {
   "cell_type": "code",
   "execution_count": 36,
   "id": "c7f167f0",
   "metadata": {},
   "outputs": [],
   "source": [
    "driver=webdriver.Chrome(r'E:\\google phots\\chromedriver_win32\\chromedriver.exe')\n",
    "driver.get('https://en.wikipedia.org/wiki/List_of_most-viewed_YouTube_videos')"
   ]
  },
  {
   "cell_type": "code",
   "execution_count": 37,
   "id": "f8912c0c",
   "metadata": {},
   "outputs": [
    {
     "data": {
      "text/plain": [
       "['Music videos',\n",
       " 'Geolocation software',\n",
       " 'Baby Shark Dance',\n",
       " 'Johny Johny Yes Papa',\n",
       " 'Cocomelon – Nursery Rhymes',\n",
       " 'Cocomelon – Nursery Rhymes',\n",
       " 'Cocomelon – Nursery Rhymes',\n",
       " 'Alan Walker (music producer)',\n",
       " 'Baby Shark Dance',\n",
       " 'Baby Shark Dance',\n",
       " 'Johny Johny Yes Papa',\n",
       " 'Baby Shark Dance',\n",
       " 'Wired (website)',\n",
       " 'CNet',\n",
       " 'Criticism of YouTube',\n",
       " 'Censorship by YouTube',\n",
       " 'KSI vs. Logan Paul',\n",
       " 'List of most-viewed music videos in the first 24 hours']"
      ]
     },
     "execution_count": 37,
     "metadata": {},
     "output_type": "execute_result"
    }
   ],
   "source": [
    "bo = [] \n",
    "for i in driver.find_elements(By.XPATH,'//a[@class=\"mw-redirect\"]'):\n",
    "    bo.append(i.get_attribute('title'))\n",
    "bo"
   ]
  },
  {
   "cell_type": "code",
   "execution_count": 38,
   "id": "e21d0adb",
   "metadata": {},
   "outputs": [
    {
     "data": {
      "text/plain": [
       "'2. Scrape the details team India’s international fixtures from bcci.tv. Url = https://www.bcci.tv/.\\nYou need to find following details:\\nA) Match title (I.e. 1st ODI)\\nB) Series\\nC) Place\\nD) Date\\nE) Time\\nNote: - From bcci.tv home page you have reach to the international fixture page through code.'"
      ]
     },
     "execution_count": 38,
     "metadata": {},
     "output_type": "execute_result"
    }
   ],
   "source": [
    "'''2. Scrape the details team India’s international fixtures from bcci.tv. Url = https://www.bcci.tv/.\n",
    "You need to find following details:\n",
    "A) Match title (I.e. 1st ODI)\n",
    "B) Series\n",
    "C) Place\n",
    "D) Date\n",
    "E) Time\n",
    "Note: - From bcci.tv home page you have reach to the international fixture page through code.'''"
   ]
  },
  {
   "cell_type": "code",
   "execution_count": 39,
   "id": "e62bcfdf",
   "metadata": {},
   "outputs": [],
   "source": [
    "driver=webdriver.Chrome(r'E:\\google phots\\chromedriver_win32\\chromedriver.exe')\n",
    "driver.get('https://www.bcci.tv/')"
   ]
  },
  {
   "cell_type": "code",
   "execution_count": 40,
   "id": "746f56ac",
   "metadata": {},
   "outputs": [],
   "source": [
    "inter = driver.find_element(By.XPATH,'/html/body/nav/div[1]/div[2]/ul[1]/li[2]/a')\n",
    "inter.click()"
   ]
  },
  {
   "cell_type": "code",
   "execution_count": 41,
   "id": "7cd0299a",
   "metadata": {},
   "outputs": [],
   "source": [
    "name,date,place,series,time = [],[],[],[],[]\n",
    "for i in driver.find_elements(By.XPATH,'//span[@class=\"ng-binding\"]'):\n",
    "    name.append(i.text)\n",
    "for i in driver.find_elements(By.XPATH,'//h5[@class=\"ng-binding\"]'):\n",
    "    date.append(i.text)\n",
    "for i in driver.find_elements(By.XPATH,'//span[@class=\"ng-binding ng-scope\"]'):\n",
    "    place.append(i.text)\n",
    "for i in driver.find_elements(By.XPATH,'//span[@class=\"matchOrderText ng-binding ng-scope\"]'):\n",
    "    series.append(i.text)\n",
    "for i in driver.find_elements(By.XPATH,'//h5[@class=\"text-right ng-binding\"]'):\n",
    "    time.append(i.text)"
   ]
  },
  {
   "cell_type": "code",
   "execution_count": 42,
   "id": "613291cd",
   "metadata": {},
   "outputs": [
    {
     "data": {
      "text/html": [
       "<div>\n",
       "<style scoped>\n",
       "    .dataframe tbody tr th:only-of-type {\n",
       "        vertical-align: middle;\n",
       "    }\n",
       "\n",
       "    .dataframe tbody tr th {\n",
       "        vertical-align: top;\n",
       "    }\n",
       "\n",
       "    .dataframe thead th {\n",
       "        text-align: right;\n",
       "    }\n",
       "</style>\n",
       "<table border=\"1\" class=\"dataframe\">\n",
       "  <thead>\n",
       "    <tr style=\"text-align: right;\">\n",
       "      <th></th>\n",
       "      <th>Match title</th>\n",
       "      <th>Series</th>\n",
       "      <th>Place</th>\n",
       "      <th>Date</th>\n",
       "      <th>Time</th>\n",
       "    </tr>\n",
       "  </thead>\n",
       "  <tbody>\n",
       "  </tbody>\n",
       "</table>\n",
       "</div>"
      ],
      "text/plain": [
       "Empty DataFrame\n",
       "Columns: [Match title, Series, Place, Date, Time]\n",
       "Index: []"
      ]
     },
     "execution_count": 42,
     "metadata": {},
     "output_type": "execute_result"
    }
   ],
   "source": [
    "bcci = pd.DataFrame({'Match title':series, 'Series':name, 'Place':place, 'Date':date, 'Time':time})\n",
    "bcci"
   ]
  },
  {
   "cell_type": "code",
   "execution_count": 43,
   "id": "70d07431",
   "metadata": {},
   "outputs": [],
   "source": [
    "driver.close()"
   ]
  },
  {
   "cell_type": "code",
   "execution_count": 44,
   "id": "b8ecac32",
   "metadata": {},
   "outputs": [
    {
     "data": {
      "text/plain": [
       "'3. Scrape the details of selenium exception from guru99.com. Url = https://www.guru99.com/\\nYou need to find following details:\\nA) Name\\nB) Description\\nNote: - From guru99 home page you have to reach to selenium exception handling page through code.'"
      ]
     },
     "execution_count": 44,
     "metadata": {},
     "output_type": "execute_result"
    }
   ],
   "source": [
    "'''3. Scrape the details of selenium exception from guru99.com. Url = https://www.guru99.com/\n",
    "You need to find following details:\n",
    "A) Name\n",
    "B) Description\n",
    "Note: - From guru99 home page you have to reach to selenium exception handling page through code.'''"
   ]
  },
  {
   "cell_type": "code",
   "execution_count": 45,
   "id": "c827611d",
   "metadata": {},
   "outputs": [],
   "source": [
    "driver=webdriver.Chrome(r'E:\\google phots\\chromedriver_win32\\chromedriver.exe')\n",
    "driver.get('https://www.guru99.com/')"
   ]
  },
  {
   "cell_type": "code",
   "execution_count": 46,
   "id": "1c1e0017",
   "metadata": {},
   "outputs": [],
   "source": [
    "sel = driver.find_element(By.XPATH,'/html/body/div[1]/div/div/div/main/div/article/div/div[1]/div[2]/div[1]/div/ul[1]/li[3]/a')\n",
    "sel.click()"
   ]
  },
  {
   "cell_type": "code",
   "execution_count": 47,
   "id": "25452cf4",
   "metadata": {},
   "outputs": [],
   "source": [
    "for _ in range(65):\n",
    "    driver.execute_script(\"window.scrollBy(0,65)\")"
   ]
  },
  {
   "cell_type": "code",
   "execution_count": 48,
   "id": "3ef8e83e",
   "metadata": {},
   "outputs": [],
   "source": [
    "tut = driver.find_element(By.XPATH,'/html/body/div[1]/div/div/div/main/div/article/div/div/table[5]/tbody/tr[34]/td[1]/a/strong')\n",
    "tut.click()"
   ]
  },
  {
   "cell_type": "code",
   "execution_count": 49,
   "id": "6671f3d3",
   "metadata": {},
   "outputs": [],
   "source": [
    "author = driver.find_element(By.XPATH,'/html/body/div[1]/div/div/div/main/div/article/div/header/div/span[1]')\n",
    "au = author.text.replace('\\n',' ')"
   ]
  },
  {
   "cell_type": "code",
   "execution_count": 50,
   "id": "8b614788",
   "metadata": {},
   "outputs": [],
   "source": [
    "description = driver.find_element(By.XPATH,'/html/body/div[1]/div/div/div/main/div/article/div/div')\n",
    "de = description.text.replace('\\n',' ')"
   ]
  },
  {
   "cell_type": "code",
   "execution_count": 51,
   "id": "7c1327ed",
   "metadata": {},
   "outputs": [
    {
     "data": {
      "text/plain": [
       "Author                                         By Krishna Rungta\n",
       "Description    What is an Exceptions? An exception is an erro...\n",
       "dtype: object"
      ]
     },
     "execution_count": 51,
     "metadata": {},
     "output_type": "execute_result"
    }
   ],
   "source": [
    "guru = pd.Series({'Author':au,'Description':de})\n",
    "guru"
   ]
  },
  {
   "cell_type": "code",
   "execution_count": 52,
   "id": "25ba25f0",
   "metadata": {},
   "outputs": [],
   "source": [
    "driver.close()"
   ]
  },
  {
   "cell_type": "code",
   "execution_count": 53,
   "id": "99f0d778",
   "metadata": {},
   "outputs": [
    {
     "data": {
      "text/plain": [
       "'4. Scrape the details of State-wise GDP of India from statisticstime.com. Url = http://statisticstimes.com/\\nYou have to find following details:\\nA) Rank\\nB) State\\nC) GSDP(18-19)\\nD) GSDP(17-18)\\nE) Share(2017)\\nF) GDP($ billion)\\nNote: - From statisticstimes home page you have to reach to economy page through code.'"
      ]
     },
     "execution_count": 53,
     "metadata": {},
     "output_type": "execute_result"
    }
   ],
   "source": [
    "'''4. Scrape the details of State-wise GDP of India from statisticstime.com. Url = http://statisticstimes.com/\n",
    "You have to find following details:\n",
    "A) Rank\n",
    "B) State\n",
    "C) GSDP(18-19)\n",
    "D) GSDP(17-18)\n",
    "E) Share(2017)\n",
    "F) GDP($ billion)\n",
    "Note: - From statisticstimes home page you have to reach to economy page through code.'''"
   ]
  },
  {
   "cell_type": "code",
   "execution_count": 54,
   "id": "a0feec94",
   "metadata": {},
   "outputs": [],
   "source": [
    "driver=webdriver.Chrome(r'E:\\google phots\\chromedriver_win32\\chromedriver.exe')\n",
    "driver.get('http://statisticstimes.com/')"
   ]
  },
  {
   "cell_type": "code",
   "execution_count": 55,
   "id": "5d61d9e0",
   "metadata": {},
   "outputs": [],
   "source": [
    "eco = driver.find_element(By.XPATH,'/html/body/div[2]/div[1]/div[2]/div[2]/button')\n",
    "eco.click()"
   ]
  },
  {
   "cell_type": "code",
   "execution_count": 56,
   "id": "01b772ce",
   "metadata": {},
   "outputs": [
    {
     "data": {
      "text/plain": [
       "'https://www.statisticstimes.com/economy/india-statistics.php'"
      ]
     },
     "execution_count": 56,
     "metadata": {},
     "output_type": "execute_result"
    }
   ],
   "source": [
    "ind = driver.find_element(By.XPATH,'/html/body/div[2]/div[1]/div[2]/div[2]/div/a[3]')\n",
    "new = ind.get_attribute('href')\n",
    "new"
   ]
  },
  {
   "cell_type": "code",
   "execution_count": 57,
   "id": "9c3ab4d9",
   "metadata": {},
   "outputs": [],
   "source": [
    "driver.get(new)"
   ]
  },
  {
   "cell_type": "code",
   "execution_count": 58,
   "id": "b0a3264d",
   "metadata": {},
   "outputs": [],
   "source": [
    "try:\n",
    "    ind_gdp = driver.find_element(By.XPATH,'/html/body/div[2]/div[2]/div[2]/ul/li[1]/a')\n",
    "    gdp = ind_gdp.get_attribute('href')\n",
    "    driver.get(gdp)\n",
    "except WebDriverException:\n",
    "    pass"
   ]
  },
  {
   "cell_type": "code",
   "execution_count": 59,
   "id": "332ad325",
   "metadata": {},
   "outputs": [],
   "source": [
    "for _ in range(45):\n",
    "    driver.execute_script(\"window.scrollBy(0,45)\")"
   ]
  },
  {
   "cell_type": "code",
   "execution_count": 60,
   "id": "10d99ad0",
   "metadata": {},
   "outputs": [],
   "source": [
    "try:\n",
    "    name,gspd,share = [],[],[]\n",
    "    for i in driver.find_elements(By.XPATH,'//td[@class=\"name\"]'):\n",
    "        name.append(i.text)\n",
    "    for i in driver.find_elements(By.XPATH,'//td[@class=\"data sorting_1\"]'):\n",
    "        gspd.append(i.text)\n",
    "    for i in driver.find_elements(By.XPATH,'//td[@class=\"data\"]'):\n",
    "        share.append(i.text.split(','))\n",
    "except WebDriverException:\n",
    "    pass"
   ]
  },
  {
   "cell_type": "code",
   "execution_count": 61,
   "id": "60e4404d",
   "metadata": {},
   "outputs": [
    {
     "data": {
      "text/html": [
       "<div>\n",
       "<style scoped>\n",
       "    .dataframe tbody tr th:only-of-type {\n",
       "        vertical-align: middle;\n",
       "    }\n",
       "\n",
       "    .dataframe tbody tr th {\n",
       "        vertical-align: top;\n",
       "    }\n",
       "\n",
       "    .dataframe thead th {\n",
       "        text-align: right;\n",
       "    }\n",
       "</style>\n",
       "<table border=\"1\" class=\"dataframe\">\n",
       "  <thead>\n",
       "    <tr style=\"text-align: right;\">\n",
       "      <th></th>\n",
       "      <th>Name</th>\n",
       "      <th>GSPD</th>\n",
       "      <th>Share</th>\n",
       "    </tr>\n",
       "  </thead>\n",
       "  <tbody>\n",
       "    <tr>\n",
       "      <th>0</th>\n",
       "      <td>Maharashtra</td>\n",
       "      <td>2,632,792</td>\n",
       "      <td>[-]</td>\n",
       "    </tr>\n",
       "    <tr>\n",
       "      <th>1</th>\n",
       "      <td>Tamil Nadu</td>\n",
       "      <td>1,630,208</td>\n",
       "      <td>[13.94%]</td>\n",
       "    </tr>\n",
       "    <tr>\n",
       "      <th>2</th>\n",
       "      <td>Uttar Pradesh</td>\n",
       "      <td>1,584,764</td>\n",
       "      <td>[399.921]</td>\n",
       "    </tr>\n",
       "    <tr>\n",
       "      <th>3</th>\n",
       "      <td>Gujarat</td>\n",
       "      <td>1,502,899</td>\n",
       "      <td>[-]</td>\n",
       "    </tr>\n",
       "    <tr>\n",
       "      <th>4</th>\n",
       "      <td>Karnataka</td>\n",
       "      <td>1,493,127</td>\n",
       "      <td>[2, 039, 074]</td>\n",
       "    </tr>\n",
       "    <tr>\n",
       "      <th>5</th>\n",
       "      <td>West Bengal</td>\n",
       "      <td>1,089,898</td>\n",
       "      <td>[1, 845, 853]</td>\n",
       "    </tr>\n",
       "    <tr>\n",
       "      <th>6</th>\n",
       "      <td>Rajasthan</td>\n",
       "      <td>942,586</td>\n",
       "      <td>[8.63%]</td>\n",
       "    </tr>\n",
       "    <tr>\n",
       "      <th>7</th>\n",
       "      <td>Andhra Pradesh</td>\n",
       "      <td>862,957</td>\n",
       "      <td>[247.629]</td>\n",
       "    </tr>\n",
       "    <tr>\n",
       "      <th>8</th>\n",
       "      <td>Telangana</td>\n",
       "      <td>861,031</td>\n",
       "      <td>[1, 312, 929]</td>\n",
       "    </tr>\n",
       "    <tr>\n",
       "      <th>9</th>\n",
       "      <td>Madhya Pradesh</td>\n",
       "      <td>809,592</td>\n",
       "      <td>[1, 215, 307]</td>\n",
       "    </tr>\n",
       "    <tr>\n",
       "      <th>10</th>\n",
       "      <td>Kerala</td>\n",
       "      <td>781,653</td>\n",
       "      <td>[1, 687, 818]</td>\n",
       "    </tr>\n",
       "    <tr>\n",
       "      <th>11</th>\n",
       "      <td>Delhi</td>\n",
       "      <td>774,870</td>\n",
       "      <td>[8.39%]</td>\n",
       "    </tr>\n",
       "    <tr>\n",
       "      <th>12</th>\n",
       "      <td>Haryana</td>\n",
       "      <td>734,163</td>\n",
       "      <td>[240.726]</td>\n",
       "    </tr>\n",
       "    <tr>\n",
       "      <th>13</th>\n",
       "      <td>Bihar</td>\n",
       "      <td>530,363</td>\n",
       "      <td>[1, 166, 817]</td>\n",
       "    </tr>\n",
       "    <tr>\n",
       "      <th>14</th>\n",
       "      <td>Punjab</td>\n",
       "      <td>526,376</td>\n",
       "      <td>[1, 123, 982]</td>\n",
       "    </tr>\n",
       "    <tr>\n",
       "      <th>15</th>\n",
       "      <td>Odisha</td>\n",
       "      <td>487,805</td>\n",
       "      <td>[-]</td>\n",
       "    </tr>\n",
       "    <tr>\n",
       "      <th>16</th>\n",
       "      <td>Assam</td>\n",
       "      <td>315,881</td>\n",
       "      <td>[7.96%]</td>\n",
       "    </tr>\n",
       "    <tr>\n",
       "      <th>17</th>\n",
       "      <td>Chhattisgarh</td>\n",
       "      <td>304,063</td>\n",
       "      <td>[228.290]</td>\n",
       "    </tr>\n",
       "    <tr>\n",
       "      <th>18</th>\n",
       "      <td>Jharkhand</td>\n",
       "      <td>297,204</td>\n",
       "      <td>[-]</td>\n",
       "    </tr>\n",
       "    <tr>\n",
       "      <th>19</th>\n",
       "      <td>Uttarakhand</td>\n",
       "      <td>245,895</td>\n",
       "      <td>[1, 186, 379]</td>\n",
       "    </tr>\n",
       "    <tr>\n",
       "      <th>20</th>\n",
       "      <td>Jammu &amp; Kashmir</td>\n",
       "      <td>155,956</td>\n",
       "      <td>[1, 631, 977]</td>\n",
       "    </tr>\n",
       "    <tr>\n",
       "      <th>21</th>\n",
       "      <td>Himachal Pradesh</td>\n",
       "      <td>153,845</td>\n",
       "      <td>[7.91%]</td>\n",
       "    </tr>\n",
       "    <tr>\n",
       "      <th>22</th>\n",
       "      <td>Goa</td>\n",
       "      <td>73,170</td>\n",
       "      <td>[226.806]</td>\n",
       "    </tr>\n",
       "    <tr>\n",
       "      <th>23</th>\n",
       "      <td>Tripura</td>\n",
       "      <td>49,845</td>\n",
       "      <td>[1, 156, 039]</td>\n",
       "    </tr>\n",
       "    <tr>\n",
       "      <th>24</th>\n",
       "      <td>Chandigarh</td>\n",
       "      <td>42,114</td>\n",
       "      <td>[1, 091, 077]</td>\n",
       "    </tr>\n",
       "    <tr>\n",
       "      <th>25</th>\n",
       "      <td>Puducherry</td>\n",
       "      <td>34,433</td>\n",
       "      <td>[1, 253, 832]</td>\n",
       "    </tr>\n",
       "    <tr>\n",
       "      <th>26</th>\n",
       "      <td>Meghalaya</td>\n",
       "      <td>33,481</td>\n",
       "      <td>[5.77%]</td>\n",
       "    </tr>\n",
       "    <tr>\n",
       "      <th>27</th>\n",
       "      <td>Sikkim</td>\n",
       "      <td>28,723</td>\n",
       "      <td>[165.556]</td>\n",
       "    </tr>\n",
       "    <tr>\n",
       "      <th>28</th>\n",
       "      <td>Manipur</td>\n",
       "      <td>27,870</td>\n",
       "      <td>[793, 223]</td>\n",
       "    </tr>\n",
       "    <tr>\n",
       "      <th>29</th>\n",
       "      <td>Nagaland</td>\n",
       "      <td>27,283</td>\n",
       "      <td>[739, 525]</td>\n",
       "    </tr>\n",
       "    <tr>\n",
       "      <th>30</th>\n",
       "      <td>Arunachal Pradesh</td>\n",
       "      <td>24,603</td>\n",
       "      <td>[1, 020, 989]</td>\n",
       "    </tr>\n",
       "    <tr>\n",
       "      <th>31</th>\n",
       "      <td>Mizoram</td>\n",
       "      <td>22,287</td>\n",
       "      <td>[4.99%]</td>\n",
       "    </tr>\n",
       "    <tr>\n",
       "      <th>32</th>\n",
       "      <td>Andaman &amp; Nicobar Islands</td>\n",
       "      <td>-</td>\n",
       "      <td>[143.179]</td>\n",
       "    </tr>\n",
       "    <tr>\n",
       "      <th>33</th>\n",
       "      <td>India</td>\n",
       "      <td>2,332,992</td>\n",
       "      <td>[711, 627]</td>\n",
       "    </tr>\n",
       "  </tbody>\n",
       "</table>\n",
       "</div>"
      ],
      "text/plain": [
       "                         Name       GSPD          Share\n",
       "0                 Maharashtra  2,632,792            [-]\n",
       "1                  Tamil Nadu  1,630,208       [13.94%]\n",
       "2               Uttar Pradesh  1,584,764      [399.921]\n",
       "3                     Gujarat  1,502,899            [-]\n",
       "4                   Karnataka  1,493,127  [2, 039, 074]\n",
       "5                 West Bengal  1,089,898  [1, 845, 853]\n",
       "6                   Rajasthan    942,586        [8.63%]\n",
       "7              Andhra Pradesh    862,957      [247.629]\n",
       "8                   Telangana    861,031  [1, 312, 929]\n",
       "9              Madhya Pradesh    809,592  [1, 215, 307]\n",
       "10                     Kerala    781,653  [1, 687, 818]\n",
       "11                      Delhi    774,870        [8.39%]\n",
       "12                    Haryana    734,163      [240.726]\n",
       "13                      Bihar    530,363  [1, 166, 817]\n",
       "14                     Punjab    526,376  [1, 123, 982]\n",
       "15                     Odisha    487,805            [-]\n",
       "16                      Assam    315,881        [7.96%]\n",
       "17               Chhattisgarh    304,063      [228.290]\n",
       "18                  Jharkhand    297,204            [-]\n",
       "19                Uttarakhand    245,895  [1, 186, 379]\n",
       "20            Jammu & Kashmir    155,956  [1, 631, 977]\n",
       "21           Himachal Pradesh    153,845        [7.91%]\n",
       "22                        Goa     73,170      [226.806]\n",
       "23                    Tripura     49,845  [1, 156, 039]\n",
       "24                 Chandigarh     42,114  [1, 091, 077]\n",
       "25                 Puducherry     34,433  [1, 253, 832]\n",
       "26                  Meghalaya     33,481        [5.77%]\n",
       "27                     Sikkim     28,723      [165.556]\n",
       "28                    Manipur     27,870     [793, 223]\n",
       "29                   Nagaland     27,283     [739, 525]\n",
       "30          Arunachal Pradesh     24,603  [1, 020, 989]\n",
       "31                    Mizoram     22,287        [4.99%]\n",
       "32  Andaman & Nicobar Islands          -      [143.179]\n",
       "33                      India  2,332,992     [711, 627]"
      ]
     },
     "execution_count": 61,
     "metadata": {},
     "output_type": "execute_result"
    }
   ],
   "source": [
    "stats = pd.DataFrame({'Name':name[:34:],'GSPD':gspd[:34:],'Share':share[:34:]})\n",
    "stats"
   ]
  },
  {
   "cell_type": "code",
   "execution_count": 62,
   "id": "1f3202e0",
   "metadata": {},
   "outputs": [
    {
     "data": {
      "text/plain": [
       "'5. Scrape the details of trending repositories on Github.com. Url = https://github.com/\\nYou have to find the following details:\\nA) Repository title\\nB) Repository description\\nC) Contributors count\\nD) Language used\\nNote: - From the home page you have to click on the trending option from Explore menu through code.'"
      ]
     },
     "execution_count": 62,
     "metadata": {},
     "output_type": "execute_result"
    }
   ],
   "source": [
    "'''5. Scrape the details of trending repositories on Github.com. Url = https://github.com/\n",
    "You have to find the following details:\n",
    "A) Repository title\n",
    "B) Repository description\n",
    "C) Contributors count\n",
    "D) Language used\n",
    "Note: - From the home page you have to click on the trending option from Explore menu through code.'''"
   ]
  },
  {
   "cell_type": "code",
   "execution_count": 63,
   "id": "1b831dac",
   "metadata": {},
   "outputs": [],
   "source": [
    "driver=webdriver.Chrome(r'E:\\google phots\\chromedriver_win32\\chromedriver.exe')\n",
    "driver.get('https://github.com/')"
   ]
  },
  {
   "cell_type": "code",
   "execution_count": 64,
   "id": "7035ec51",
   "metadata": {},
   "outputs": [],
   "source": [
    "driver.get('https://github.com/trending')"
   ]
  },
  {
   "cell_type": "code",
   "execution_count": 65,
   "id": "d5340fa6",
   "metadata": {},
   "outputs": [],
   "source": [
    "repo,des,lan = [],[],[]\n",
    "for i in driver.find_elements(By.XPATH,'//h1[@class=\"h3 lh-condensed\"]'):\n",
    "    repo.append(i.text)\n",
    "for i in driver.find_elements(By.XPATH,'//p[@class=\"col-9 color-fg-muted my-1 pr-4\"]'):\n",
    "    des.append(i.text)\n",
    "for i in driver.find_elements(By.XPATH,'//span[@class=\"d-inline-block ml-0 mr-3\"]'):\n",
    "    lan.append(i.text)"
   ]
  },
  {
   "cell_type": "code",
   "execution_count": 66,
   "id": "bd8ee722",
   "metadata": {},
   "outputs": [
    {
     "ename": "ValueError",
     "evalue": "All arrays must be of the same length",
     "output_type": "error",
     "traceback": [
      "\u001b[1;31m---------------------------------------------------------------------------\u001b[0m",
      "\u001b[1;31mValueError\u001b[0m                                Traceback (most recent call last)",
      "\u001b[1;32m~\\AppData\\Local\\Temp/ipykernel_17128/2511135838.py\u001b[0m in \u001b[0;36m<module>\u001b[1;34m\u001b[0m\n\u001b[1;32m----> 1\u001b[1;33m \u001b[0mgit\u001b[0m \u001b[1;33m=\u001b[0m \u001b[0mpd\u001b[0m\u001b[1;33m.\u001b[0m\u001b[0mDataFrame\u001b[0m\u001b[1;33m(\u001b[0m\u001b[1;33m{\u001b[0m\u001b[1;34m'Repository title'\u001b[0m\u001b[1;33m:\u001b[0m\u001b[0mrepo\u001b[0m\u001b[1;33m[\u001b[0m\u001b[1;36m0\u001b[0m\u001b[1;33m:\u001b[0m\u001b[1;36m22\u001b[0m\u001b[1;33m]\u001b[0m\u001b[1;33m,\u001b[0m \u001b[1;34m'Repository description'\u001b[0m\u001b[1;33m:\u001b[0m\u001b[0mdes\u001b[0m\u001b[1;33m[\u001b[0m\u001b[1;36m0\u001b[0m\u001b[1;33m:\u001b[0m\u001b[1;36m22\u001b[0m\u001b[1;33m]\u001b[0m\u001b[1;33m,\u001b[0m \u001b[1;34m'Language used'\u001b[0m\u001b[1;33m:\u001b[0m\u001b[0mlan\u001b[0m\u001b[1;33m[\u001b[0m\u001b[1;36m0\u001b[0m\u001b[1;33m:\u001b[0m\u001b[1;36m22\u001b[0m\u001b[1;33m]\u001b[0m\u001b[1;33m}\u001b[0m\u001b[1;33m)\u001b[0m\u001b[1;33m\u001b[0m\u001b[1;33m\u001b[0m\u001b[0m\n\u001b[0m\u001b[0;32m      2\u001b[0m \u001b[0mgit\u001b[0m\u001b[1;33m\u001b[0m\u001b[1;33m\u001b[0m\u001b[0m\n",
      "\u001b[1;32m~\\anaconda3\\lib\\site-packages\\pandas\\core\\frame.py\u001b[0m in \u001b[0;36m__init__\u001b[1;34m(self, data, index, columns, dtype, copy)\u001b[0m\n\u001b[0;32m    612\u001b[0m         \u001b[1;32melif\u001b[0m \u001b[0misinstance\u001b[0m\u001b[1;33m(\u001b[0m\u001b[0mdata\u001b[0m\u001b[1;33m,\u001b[0m \u001b[0mdict\u001b[0m\u001b[1;33m)\u001b[0m\u001b[1;33m:\u001b[0m\u001b[1;33m\u001b[0m\u001b[1;33m\u001b[0m\u001b[0m\n\u001b[0;32m    613\u001b[0m             \u001b[1;31m# GH#38939 de facto copy defaults to False only in non-dict cases\u001b[0m\u001b[1;33m\u001b[0m\u001b[1;33m\u001b[0m\u001b[0m\n\u001b[1;32m--> 614\u001b[1;33m             \u001b[0mmgr\u001b[0m \u001b[1;33m=\u001b[0m \u001b[0mdict_to_mgr\u001b[0m\u001b[1;33m(\u001b[0m\u001b[0mdata\u001b[0m\u001b[1;33m,\u001b[0m \u001b[0mindex\u001b[0m\u001b[1;33m,\u001b[0m \u001b[0mcolumns\u001b[0m\u001b[1;33m,\u001b[0m \u001b[0mdtype\u001b[0m\u001b[1;33m=\u001b[0m\u001b[0mdtype\u001b[0m\u001b[1;33m,\u001b[0m \u001b[0mcopy\u001b[0m\u001b[1;33m=\u001b[0m\u001b[0mcopy\u001b[0m\u001b[1;33m,\u001b[0m \u001b[0mtyp\u001b[0m\u001b[1;33m=\u001b[0m\u001b[0mmanager\u001b[0m\u001b[1;33m)\u001b[0m\u001b[1;33m\u001b[0m\u001b[1;33m\u001b[0m\u001b[0m\n\u001b[0m\u001b[0;32m    615\u001b[0m         \u001b[1;32melif\u001b[0m \u001b[0misinstance\u001b[0m\u001b[1;33m(\u001b[0m\u001b[0mdata\u001b[0m\u001b[1;33m,\u001b[0m \u001b[0mma\u001b[0m\u001b[1;33m.\u001b[0m\u001b[0mMaskedArray\u001b[0m\u001b[1;33m)\u001b[0m\u001b[1;33m:\u001b[0m\u001b[1;33m\u001b[0m\u001b[1;33m\u001b[0m\u001b[0m\n\u001b[0;32m    616\u001b[0m             \u001b[1;32mimport\u001b[0m \u001b[0mnumpy\u001b[0m\u001b[1;33m.\u001b[0m\u001b[0mma\u001b[0m\u001b[1;33m.\u001b[0m\u001b[0mmrecords\u001b[0m \u001b[1;32mas\u001b[0m \u001b[0mmrecords\u001b[0m\u001b[1;33m\u001b[0m\u001b[1;33m\u001b[0m\u001b[0m\n",
      "\u001b[1;32m~\\anaconda3\\lib\\site-packages\\pandas\\core\\internals\\construction.py\u001b[0m in \u001b[0;36mdict_to_mgr\u001b[1;34m(data, index, columns, dtype, typ, copy)\u001b[0m\n\u001b[0;32m    462\u001b[0m         \u001b[1;31m# TODO: can we get rid of the dt64tz special case above?\u001b[0m\u001b[1;33m\u001b[0m\u001b[1;33m\u001b[0m\u001b[0m\n\u001b[0;32m    463\u001b[0m \u001b[1;33m\u001b[0m\u001b[0m\n\u001b[1;32m--> 464\u001b[1;33m     return arrays_to_mgr(\n\u001b[0m\u001b[0;32m    465\u001b[0m         \u001b[0marrays\u001b[0m\u001b[1;33m,\u001b[0m \u001b[0mdata_names\u001b[0m\u001b[1;33m,\u001b[0m \u001b[0mindex\u001b[0m\u001b[1;33m,\u001b[0m \u001b[0mcolumns\u001b[0m\u001b[1;33m,\u001b[0m \u001b[0mdtype\u001b[0m\u001b[1;33m=\u001b[0m\u001b[0mdtype\u001b[0m\u001b[1;33m,\u001b[0m \u001b[0mtyp\u001b[0m\u001b[1;33m=\u001b[0m\u001b[0mtyp\u001b[0m\u001b[1;33m,\u001b[0m \u001b[0mconsolidate\u001b[0m\u001b[1;33m=\u001b[0m\u001b[0mcopy\u001b[0m\u001b[1;33m\u001b[0m\u001b[1;33m\u001b[0m\u001b[0m\n\u001b[0;32m    466\u001b[0m     )\n",
      "\u001b[1;32m~\\anaconda3\\lib\\site-packages\\pandas\\core\\internals\\construction.py\u001b[0m in \u001b[0;36marrays_to_mgr\u001b[1;34m(arrays, arr_names, index, columns, dtype, verify_integrity, typ, consolidate)\u001b[0m\n\u001b[0;32m    117\u001b[0m         \u001b[1;31m# figure out the index, if necessary\u001b[0m\u001b[1;33m\u001b[0m\u001b[1;33m\u001b[0m\u001b[0m\n\u001b[0;32m    118\u001b[0m         \u001b[1;32mif\u001b[0m \u001b[0mindex\u001b[0m \u001b[1;32mis\u001b[0m \u001b[1;32mNone\u001b[0m\u001b[1;33m:\u001b[0m\u001b[1;33m\u001b[0m\u001b[1;33m\u001b[0m\u001b[0m\n\u001b[1;32m--> 119\u001b[1;33m             \u001b[0mindex\u001b[0m \u001b[1;33m=\u001b[0m \u001b[0m_extract_index\u001b[0m\u001b[1;33m(\u001b[0m\u001b[0marrays\u001b[0m\u001b[1;33m)\u001b[0m\u001b[1;33m\u001b[0m\u001b[1;33m\u001b[0m\u001b[0m\n\u001b[0m\u001b[0;32m    120\u001b[0m         \u001b[1;32melse\u001b[0m\u001b[1;33m:\u001b[0m\u001b[1;33m\u001b[0m\u001b[1;33m\u001b[0m\u001b[0m\n\u001b[0;32m    121\u001b[0m             \u001b[0mindex\u001b[0m \u001b[1;33m=\u001b[0m \u001b[0mensure_index\u001b[0m\u001b[1;33m(\u001b[0m\u001b[0mindex\u001b[0m\u001b[1;33m)\u001b[0m\u001b[1;33m\u001b[0m\u001b[1;33m\u001b[0m\u001b[0m\n",
      "\u001b[1;32m~\\anaconda3\\lib\\site-packages\\pandas\\core\\internals\\construction.py\u001b[0m in \u001b[0;36m_extract_index\u001b[1;34m(data)\u001b[0m\n\u001b[0;32m    633\u001b[0m             \u001b[0mlengths\u001b[0m \u001b[1;33m=\u001b[0m \u001b[0mlist\u001b[0m\u001b[1;33m(\u001b[0m\u001b[0mset\u001b[0m\u001b[1;33m(\u001b[0m\u001b[0mraw_lengths\u001b[0m\u001b[1;33m)\u001b[0m\u001b[1;33m)\u001b[0m\u001b[1;33m\u001b[0m\u001b[1;33m\u001b[0m\u001b[0m\n\u001b[0;32m    634\u001b[0m             \u001b[1;32mif\u001b[0m \u001b[0mlen\u001b[0m\u001b[1;33m(\u001b[0m\u001b[0mlengths\u001b[0m\u001b[1;33m)\u001b[0m \u001b[1;33m>\u001b[0m \u001b[1;36m1\u001b[0m\u001b[1;33m:\u001b[0m\u001b[1;33m\u001b[0m\u001b[1;33m\u001b[0m\u001b[0m\n\u001b[1;32m--> 635\u001b[1;33m                 \u001b[1;32mraise\u001b[0m \u001b[0mValueError\u001b[0m\u001b[1;33m(\u001b[0m\u001b[1;34m\"All arrays must be of the same length\"\u001b[0m\u001b[1;33m)\u001b[0m\u001b[1;33m\u001b[0m\u001b[1;33m\u001b[0m\u001b[0m\n\u001b[0m\u001b[0;32m    636\u001b[0m \u001b[1;33m\u001b[0m\u001b[0m\n\u001b[0;32m    637\u001b[0m             \u001b[1;32mif\u001b[0m \u001b[0mhave_dicts\u001b[0m\u001b[1;33m:\u001b[0m\u001b[1;33m\u001b[0m\u001b[1;33m\u001b[0m\u001b[0m\n",
      "\u001b[1;31mValueError\u001b[0m: All arrays must be of the same length"
     ]
    }
   ],
   "source": [
    "git = pd.DataFrame({'Repository title':repo[0:22], 'Repository description':des[0:22], 'Language used':lan[0:22]})\n",
    "git"
   ]
  },
  {
   "cell_type": "code",
   "execution_count": null,
   "id": "71bb1d2d",
   "metadata": {},
   "outputs": [],
   "source": [
    "driver.close()"
   ]
  },
  {
   "cell_type": "code",
   "execution_count": 67,
   "id": "832b2c89",
   "metadata": {},
   "outputs": [
    {
     "data": {
      "text/plain": [
       "'6. Scrape the details of top 100 songs on billiboard.com. Url = https:/www.billboard.com/\\nYou have to find the following details:\\nA) Song name\\nB) Artist name\\nC) Last week rank\\nD) Peak rank\\nE) Weeks on board\\nNote: - From the home page you have to click on the charts option then hot 100-page link through code.'"
      ]
     },
     "execution_count": 67,
     "metadata": {},
     "output_type": "execute_result"
    }
   ],
   "source": [
    "'''6. Scrape the details of top 100 songs on billiboard.com. Url = https:/www.billboard.com/\n",
    "You have to find the following details:\n",
    "A) Song name\n",
    "B) Artist name\n",
    "C) Last week rank\n",
    "D) Peak rank\n",
    "E) Weeks on board\n",
    "Note: - From the home page you have to click on the charts option then hot 100-page link through code.'''"
   ]
  },
  {
   "cell_type": "code",
   "execution_count": 68,
   "id": "989f927a",
   "metadata": {},
   "outputs": [],
   "source": [
    "driver=webdriver.Chrome(r'E:\\google phots\\chromedriver_win32\\chromedriver.exe')\n",
    "driver.get('https:/www.billboard.com/')"
   ]
  },
  {
   "cell_type": "code",
   "execution_count": 69,
   "id": "a853c72d",
   "metadata": {},
   "outputs": [],
   "source": [
    "try:\n",
    "    top = driver.find_element(By.XPATH,'/html/body/div[3]/header/div[2]/div/nav/ul/li[1]/a')\n",
    "    top.click()\n",
    "except WebDriverException:\n",
    "    pass"
   ]
  },
  {
   "cell_type": "code",
   "execution_count": 70,
   "id": "28491c21",
   "metadata": {},
   "outputs": [],
   "source": [
    "for _ in range(1000):\n",
    "    driver.execute_script(\"window.scrollBy(0,200)\")"
   ]
  },
  {
   "cell_type": "code",
   "execution_count": 71,
   "id": "43f2068a",
   "metadata": {},
   "outputs": [],
   "source": [
    "name,artist,lwr,pr,wob = [],[],[],[],[]\n",
    "for i in driver.find_elements(By.XPATH,'/html/body/div[3]/main/div[2]/div[3]/div/div/div/div[2]/div[2]/ul/li[4]/ul/li[1]/h3'):\n",
    "    name.append(i.text)\n",
    "for i in driver.find_elements(By.XPATH,'/html/body/div[3]/main/div[2]/div[3]/div/div/div/div[2]/div[2]/ul/li[4]/ul/li[1]/span'):\n",
    "    artist.append(i.text)\n",
    "for i in driver.find_elements(By.XPATH,'/html/body/div[3]/main/div[2]/div[3]/div/div/div/div[2]/div[2]/ul/li[4]/ul/li[4]/span'):\n",
    "    lwr.append(i.text)\n",
    "for i in driver.find_elements(By.XPATH,'/html/body/div[3]/main/div[2]/div[3]/div/div/div/div[2]/div[2]/ul/li[4]/ul/li[5]/span'):\n",
    "    pr.append(i.text)\n",
    "for i in driver.find_elements(By.XPATH,'/html/body/div[3]/main/div[2]/div[3]/div/div/div/div[2]/div[2]/ul/li[4]/ul/li[6]/span'):\n",
    "    wob.append(i.text)"
   ]
  },
  {
   "cell_type": "code",
   "execution_count": 72,
   "id": "7256447f",
   "metadata": {},
   "outputs": [],
   "source": [
    "for i in driver.find_elements(By.XPATH,'//h3[@class=\"c-title  a-no-trucate a-font-primary-bold-s u-letter-spacing-0021 lrv-u-font-size-18@tablet lrv-u-font-size-16 u-line-height-125 u-line-height-normal@mobile-max a-truncate-ellipsis u-max-width-330 u-max-width-230@tablet-only\"]'):\n",
    "    name.append(i.text)\n",
    "for i in driver.find_elements(By.XPATH,'//span[@class=\"c-label  a-no-trucate a-font-primary-s lrv-u-font-size-14@mobile-max u-line-height-normal@mobile-max u-letter-spacing-0021 lrv-u-display-block a-truncate-ellipsis-2line u-max-width-330 u-max-width-230@tablet-only\"]'):\n",
    "    artist.append(i.text)\n",
    "for i in driver.find_elements(By.XPATH,'//li[@class=\"o-chart-results-list__item // a-chart-color u-width-72 u-width-55@mobile-max u-width-55@tablet-only lrv-u-flex lrv-u-flex-shrink-0 lrv-u-align-items-center lrv-u-justify-content-center lrv-u-border-b-1 u-border-b-0@mobile-max lrv-u-border-color-grey-light u-background-color-white-064@mobile-max u-hidden@mobile-max\"]'):\n",
    "    lwr.append(i.text)\n",
    "for i in driver.find_elements(By.XPATH,'//li[@class=\"o-chart-results-list__item // a-chart-bg-color a-chart-color u-width-72 u-width-55@mobile-max u-width-55@tablet-only lrv-u-flex lrv-u-flex-shrink-0 lrv-u-align-items-center lrv-u-justify-content-center lrv-u-background-color-grey-lightest lrv-u-border-b-1 u-border-b-0@mobile-max lrv-u-border-color-grey-light u-hidden@mobile-max\"]'):\n",
    "    pr.append(i.text)\n",
    "for i in driver.find_elements(By.XPATH,'li[@class=\"o-chart-results-list__item // a-chart-color u-width-72 u-width-55@mobile-max u-width-55@tablet-only lrv-u-flex lrv-u-flex-shrink-0 lrv-u-align-items-center lrv-u-justify-content-center lrv-u-border-b-1 u-border-b-0@mobile-max lrv-u-border-color-grey-light u-background-color-white-064@mobile-max u-hidden@mobile-max\"]'):\n",
    "    wob.append(i.text)"
   ]
  },
  {
   "cell_type": "code",
   "execution_count": 73,
   "id": "78f425f1",
   "metadata": {},
   "outputs": [
    {
     "data": {
      "text/plain": [
       "(0, 0, 0, 0)"
      ]
     },
     "execution_count": 73,
     "metadata": {},
     "output_type": "execute_result"
    }
   ],
   "source": [
    "len(name),len(artist),len(lwr),len(pr)"
   ]
  },
  {
   "cell_type": "code",
   "execution_count": 74,
   "id": "38842872",
   "metadata": {},
   "outputs": [
    {
     "data": {
      "text/html": [
       "<div>\n",
       "<style scoped>\n",
       "    .dataframe tbody tr th:only-of-type {\n",
       "        vertical-align: middle;\n",
       "    }\n",
       "\n",
       "    .dataframe tbody tr th {\n",
       "        vertical-align: top;\n",
       "    }\n",
       "\n",
       "    .dataframe thead th {\n",
       "        text-align: right;\n",
       "    }\n",
       "</style>\n",
       "<table border=\"1\" class=\"dataframe\">\n",
       "  <thead>\n",
       "    <tr style=\"text-align: right;\">\n",
       "      <th></th>\n",
       "      <th>Name</th>\n",
       "      <th>Artist</th>\n",
       "      <th>Last Week Rank</th>\n",
       "      <th>Peek Pos</th>\n",
       "    </tr>\n",
       "  </thead>\n",
       "  <tbody>\n",
       "  </tbody>\n",
       "</table>\n",
       "</div>"
      ],
      "text/plain": [
       "Empty DataFrame\n",
       "Columns: [Name, Artist, Last Week Rank, Peek Pos]\n",
       "Index: []"
      ]
     },
     "execution_count": 74,
     "metadata": {},
     "output_type": "execute_result"
    }
   ],
   "source": [
    "bill = pd.DataFrame({'Name':name[0:100],'Artist':artist[0:100],'Last Week Rank':lwr[0:100],'Peek Pos':pr[0:100]})\n",
    "bill"
   ]
  },
  {
   "cell_type": "code",
   "execution_count": 75,
   "id": "9cd24084",
   "metadata": {},
   "outputs": [
    {
     "data": {
      "text/plain": [
       "'7. Scrape the details of Data science recruiters from naukri.com. Url = https://www.naukri.com/hr-recruiters-consultants\\nYou have to find the following details:\\nA) Name\\nB) Designation\\nC) Company\\nD) Skills they hire for\\nE) Location\\nNote: - From naukri.com homepage click on the recruiters option and the on the search pane type Data science and click on search. All this should be done through code'"
      ]
     },
     "execution_count": 75,
     "metadata": {},
     "output_type": "execute_result"
    }
   ],
   "source": [
    "'''7. Scrape the details of Data science recruiters from naukri.com. Url = https://www.naukri.com/hr-recruiters-consultants\n",
    "You have to find the following details:\n",
    "A) Name\n",
    "B) Designation\n",
    "C) Company\n",
    "D) Skills they hire for\n",
    "E) Location\n",
    "Note: - From naukri.com homepage click on the recruiters option and the on the search pane type Data science and click on search. All this should be done through code'''"
   ]
  },
  {
   "cell_type": "code",
   "execution_count": 76,
   "id": "01958ef6",
   "metadata": {},
   "outputs": [
    {
     "ename": "WebDriverException",
     "evalue": "Message: unknown error: DevToolsActivePort file doesn't exist\nStacktrace:\nBacktrace:\n\t(No symbol) [0x008F37D3]\n\t(No symbol) [0x00888B81]\n\t(No symbol) [0x0078B36D]\n\t(No symbol) [0x007AE16E]\n\t(No symbol) [0x007A9950]\n\t(No symbol) [0x007A6FC9]\n\t(No symbol) [0x007E1ED5]\n\t(No symbol) [0x007E1B2C]\n\t(No symbol) [0x007DB216]\n\t(No symbol) [0x007B0D97]\n\t(No symbol) [0x007B253D]\n\tGetHandleVerifier [0x00B6ABF2+2510930]\n\tGetHandleVerifier [0x00B98EC1+2700065]\n\tGetHandleVerifier [0x00B9C86C+2714828]\n\tGetHandleVerifier [0x009A3480+645344]\n\t(No symbol) [0x00890FD2]\n\t(No symbol) [0x00896C68]\n\t(No symbol) [0x00896D4B]\n\t(No symbol) [0x008A0D6B]\n\tBaseThreadInitThunk [0x756E00F9+25]\n\tRtlGetAppContainerNamedObjectPath [0x76FE7BBE+286]\n\tRtlGetAppContainerNamedObjectPath [0x76FE7B8E+238]\n",
     "output_type": "error",
     "traceback": [
      "\u001b[1;31m---------------------------------------------------------------------------\u001b[0m",
      "\u001b[1;31mWebDriverException\u001b[0m                        Traceback (most recent call last)",
      "\u001b[1;32m~\\AppData\\Local\\Temp/ipykernel_17128/3747962537.py\u001b[0m in \u001b[0;36m<module>\u001b[1;34m\u001b[0m\n\u001b[1;32m----> 1\u001b[1;33m \u001b[0mdriver\u001b[0m\u001b[1;33m=\u001b[0m\u001b[0mwebdriver\u001b[0m\u001b[1;33m.\u001b[0m\u001b[0mChrome\u001b[0m\u001b[1;33m(\u001b[0m\u001b[1;34mr'E:\\google phots\\chromedriver_win32\\chromedriver.exe'\u001b[0m\u001b[1;33m)\u001b[0m\u001b[1;33m\u001b[0m\u001b[1;33m\u001b[0m\u001b[0m\n\u001b[0m\u001b[0;32m      2\u001b[0m \u001b[0mdriver\u001b[0m\u001b[1;33m.\u001b[0m\u001b[0mget\u001b[0m\u001b[1;33m(\u001b[0m\u001b[1;34m'https://www.naukri.com/hr-recruiters-consultants'\u001b[0m\u001b[1;33m)\u001b[0m\u001b[1;33m\u001b[0m\u001b[1;33m\u001b[0m\u001b[0m\n",
      "\u001b[1;32m~\\anaconda3\\lib\\site-packages\\selenium\\webdriver\\chrome\\webdriver.py\u001b[0m in \u001b[0;36m__init__\u001b[1;34m(self, executable_path, port, options, service_args, desired_capabilities, service_log_path, chrome_options, service, keep_alive)\u001b[0m\n\u001b[0;32m     78\u001b[0m             \u001b[0mservice\u001b[0m \u001b[1;33m=\u001b[0m \u001b[0mService\u001b[0m\u001b[1;33m(\u001b[0m\u001b[0mexecutable_path\u001b[0m\u001b[1;33m,\u001b[0m \u001b[0mport\u001b[0m\u001b[1;33m,\u001b[0m \u001b[0mservice_args\u001b[0m\u001b[1;33m,\u001b[0m \u001b[0mservice_log_path\u001b[0m\u001b[1;33m)\u001b[0m\u001b[1;33m\u001b[0m\u001b[1;33m\u001b[0m\u001b[0m\n\u001b[0;32m     79\u001b[0m \u001b[1;33m\u001b[0m\u001b[0m\n\u001b[1;32m---> 80\u001b[1;33m         super().__init__(\n\u001b[0m\u001b[0;32m     81\u001b[0m             \u001b[0mDesiredCapabilities\u001b[0m\u001b[1;33m.\u001b[0m\u001b[0mCHROME\u001b[0m\u001b[1;33m[\u001b[0m\u001b[1;34m\"browserName\"\u001b[0m\u001b[1;33m]\u001b[0m\u001b[1;33m,\u001b[0m\u001b[1;33m\u001b[0m\u001b[1;33m\u001b[0m\u001b[0m\n\u001b[0;32m     82\u001b[0m             \u001b[1;34m\"goog\"\u001b[0m\u001b[1;33m,\u001b[0m\u001b[1;33m\u001b[0m\u001b[1;33m\u001b[0m\u001b[0m\n",
      "\u001b[1;32m~\\anaconda3\\lib\\site-packages\\selenium\\webdriver\\chromium\\webdriver.py\u001b[0m in \u001b[0;36m__init__\u001b[1;34m(self, browser_name, vendor_prefix, port, options, service_args, desired_capabilities, service_log_path, service, keep_alive)\u001b[0m\n\u001b[0;32m    102\u001b[0m \u001b[1;33m\u001b[0m\u001b[0m\n\u001b[0;32m    103\u001b[0m         \u001b[1;32mtry\u001b[0m\u001b[1;33m:\u001b[0m\u001b[1;33m\u001b[0m\u001b[1;33m\u001b[0m\u001b[0m\n\u001b[1;32m--> 104\u001b[1;33m             super().__init__(\n\u001b[0m\u001b[0;32m    105\u001b[0m                 command_executor=ChromiumRemoteConnection(\n\u001b[0;32m    106\u001b[0m                     \u001b[0mremote_server_addr\u001b[0m\u001b[1;33m=\u001b[0m\u001b[0mself\u001b[0m\u001b[1;33m.\u001b[0m\u001b[0mservice\u001b[0m\u001b[1;33m.\u001b[0m\u001b[0mservice_url\u001b[0m\u001b[1;33m,\u001b[0m\u001b[1;33m\u001b[0m\u001b[1;33m\u001b[0m\u001b[0m\n",
      "\u001b[1;32m~\\anaconda3\\lib\\site-packages\\selenium\\webdriver\\remote\\webdriver.py\u001b[0m in \u001b[0;36m__init__\u001b[1;34m(self, command_executor, desired_capabilities, browser_profile, proxy, keep_alive, file_detector, options)\u001b[0m\n\u001b[0;32m    284\u001b[0m         \u001b[0mself\u001b[0m\u001b[1;33m.\u001b[0m\u001b[0m_authenticator_id\u001b[0m \u001b[1;33m=\u001b[0m \u001b[1;32mNone\u001b[0m\u001b[1;33m\u001b[0m\u001b[1;33m\u001b[0m\u001b[0m\n\u001b[0;32m    285\u001b[0m         \u001b[0mself\u001b[0m\u001b[1;33m.\u001b[0m\u001b[0mstart_client\u001b[0m\u001b[1;33m(\u001b[0m\u001b[1;33m)\u001b[0m\u001b[1;33m\u001b[0m\u001b[1;33m\u001b[0m\u001b[0m\n\u001b[1;32m--> 286\u001b[1;33m         \u001b[0mself\u001b[0m\u001b[1;33m.\u001b[0m\u001b[0mstart_session\u001b[0m\u001b[1;33m(\u001b[0m\u001b[0mcapabilities\u001b[0m\u001b[1;33m,\u001b[0m \u001b[0mbrowser_profile\u001b[0m\u001b[1;33m)\u001b[0m\u001b[1;33m\u001b[0m\u001b[1;33m\u001b[0m\u001b[0m\n\u001b[0m\u001b[0;32m    287\u001b[0m \u001b[1;33m\u001b[0m\u001b[0m\n\u001b[0;32m    288\u001b[0m     \u001b[1;32mdef\u001b[0m \u001b[0m__repr__\u001b[0m\u001b[1;33m(\u001b[0m\u001b[0mself\u001b[0m\u001b[1;33m)\u001b[0m\u001b[1;33m:\u001b[0m\u001b[1;33m\u001b[0m\u001b[1;33m\u001b[0m\u001b[0m\n",
      "\u001b[1;32m~\\anaconda3\\lib\\site-packages\\selenium\\webdriver\\remote\\webdriver.py\u001b[0m in \u001b[0;36mstart_session\u001b[1;34m(self, capabilities, browser_profile)\u001b[0m\n\u001b[0;32m    376\u001b[0m         \u001b[0mw3c_caps\u001b[0m \u001b[1;33m=\u001b[0m \u001b[0m_make_w3c_caps\u001b[0m\u001b[1;33m(\u001b[0m\u001b[0mcapabilities\u001b[0m\u001b[1;33m)\u001b[0m\u001b[1;33m\u001b[0m\u001b[1;33m\u001b[0m\u001b[0m\n\u001b[0;32m    377\u001b[0m         \u001b[0mparameters\u001b[0m \u001b[1;33m=\u001b[0m \u001b[1;33m{\u001b[0m\u001b[1;34m\"capabilities\"\u001b[0m\u001b[1;33m:\u001b[0m \u001b[0mw3c_caps\u001b[0m\u001b[1;33m}\u001b[0m\u001b[1;33m\u001b[0m\u001b[1;33m\u001b[0m\u001b[0m\n\u001b[1;32m--> 378\u001b[1;33m         \u001b[0mresponse\u001b[0m \u001b[1;33m=\u001b[0m \u001b[0mself\u001b[0m\u001b[1;33m.\u001b[0m\u001b[0mexecute\u001b[0m\u001b[1;33m(\u001b[0m\u001b[0mCommand\u001b[0m\u001b[1;33m.\u001b[0m\u001b[0mNEW_SESSION\u001b[0m\u001b[1;33m,\u001b[0m \u001b[0mparameters\u001b[0m\u001b[1;33m)\u001b[0m\u001b[1;33m\u001b[0m\u001b[1;33m\u001b[0m\u001b[0m\n\u001b[0m\u001b[0;32m    379\u001b[0m         \u001b[1;32mif\u001b[0m \u001b[1;34m\"sessionId\"\u001b[0m \u001b[1;32mnot\u001b[0m \u001b[1;32min\u001b[0m \u001b[0mresponse\u001b[0m\u001b[1;33m:\u001b[0m\u001b[1;33m\u001b[0m\u001b[1;33m\u001b[0m\u001b[0m\n\u001b[0;32m    380\u001b[0m             \u001b[0mresponse\u001b[0m \u001b[1;33m=\u001b[0m \u001b[0mresponse\u001b[0m\u001b[1;33m[\u001b[0m\u001b[1;34m\"value\"\u001b[0m\u001b[1;33m]\u001b[0m\u001b[1;33m\u001b[0m\u001b[1;33m\u001b[0m\u001b[0m\n",
      "\u001b[1;32m~\\anaconda3\\lib\\site-packages\\selenium\\webdriver\\remote\\webdriver.py\u001b[0m in \u001b[0;36mexecute\u001b[1;34m(self, driver_command, params)\u001b[0m\n\u001b[0;32m    438\u001b[0m         \u001b[0mresponse\u001b[0m \u001b[1;33m=\u001b[0m \u001b[0mself\u001b[0m\u001b[1;33m.\u001b[0m\u001b[0mcommand_executor\u001b[0m\u001b[1;33m.\u001b[0m\u001b[0mexecute\u001b[0m\u001b[1;33m(\u001b[0m\u001b[0mdriver_command\u001b[0m\u001b[1;33m,\u001b[0m \u001b[0mparams\u001b[0m\u001b[1;33m)\u001b[0m\u001b[1;33m\u001b[0m\u001b[1;33m\u001b[0m\u001b[0m\n\u001b[0;32m    439\u001b[0m         \u001b[1;32mif\u001b[0m \u001b[0mresponse\u001b[0m\u001b[1;33m:\u001b[0m\u001b[1;33m\u001b[0m\u001b[1;33m\u001b[0m\u001b[0m\n\u001b[1;32m--> 440\u001b[1;33m             \u001b[0mself\u001b[0m\u001b[1;33m.\u001b[0m\u001b[0merror_handler\u001b[0m\u001b[1;33m.\u001b[0m\u001b[0mcheck_response\u001b[0m\u001b[1;33m(\u001b[0m\u001b[0mresponse\u001b[0m\u001b[1;33m)\u001b[0m\u001b[1;33m\u001b[0m\u001b[1;33m\u001b[0m\u001b[0m\n\u001b[0m\u001b[0;32m    441\u001b[0m             \u001b[0mresponse\u001b[0m\u001b[1;33m[\u001b[0m\u001b[1;34m\"value\"\u001b[0m\u001b[1;33m]\u001b[0m \u001b[1;33m=\u001b[0m \u001b[0mself\u001b[0m\u001b[1;33m.\u001b[0m\u001b[0m_unwrap_value\u001b[0m\u001b[1;33m(\u001b[0m\u001b[0mresponse\u001b[0m\u001b[1;33m.\u001b[0m\u001b[0mget\u001b[0m\u001b[1;33m(\u001b[0m\u001b[1;34m\"value\"\u001b[0m\u001b[1;33m,\u001b[0m \u001b[1;32mNone\u001b[0m\u001b[1;33m)\u001b[0m\u001b[1;33m)\u001b[0m\u001b[1;33m\u001b[0m\u001b[1;33m\u001b[0m\u001b[0m\n\u001b[0;32m    442\u001b[0m             \u001b[1;32mreturn\u001b[0m \u001b[0mresponse\u001b[0m\u001b[1;33m\u001b[0m\u001b[1;33m\u001b[0m\u001b[0m\n",
      "\u001b[1;32m~\\anaconda3\\lib\\site-packages\\selenium\\webdriver\\remote\\errorhandler.py\u001b[0m in \u001b[0;36mcheck_response\u001b[1;34m(self, response)\u001b[0m\n\u001b[0;32m    243\u001b[0m                 \u001b[0malert_text\u001b[0m \u001b[1;33m=\u001b[0m \u001b[0mvalue\u001b[0m\u001b[1;33m[\u001b[0m\u001b[1;34m\"alert\"\u001b[0m\u001b[1;33m]\u001b[0m\u001b[1;33m.\u001b[0m\u001b[0mget\u001b[0m\u001b[1;33m(\u001b[0m\u001b[1;34m\"text\"\u001b[0m\u001b[1;33m)\u001b[0m\u001b[1;33m\u001b[0m\u001b[1;33m\u001b[0m\u001b[0m\n\u001b[0;32m    244\u001b[0m             \u001b[1;32mraise\u001b[0m \u001b[0mexception_class\u001b[0m\u001b[1;33m(\u001b[0m\u001b[0mmessage\u001b[0m\u001b[1;33m,\u001b[0m \u001b[0mscreen\u001b[0m\u001b[1;33m,\u001b[0m \u001b[0mstacktrace\u001b[0m\u001b[1;33m,\u001b[0m \u001b[0malert_text\u001b[0m\u001b[1;33m)\u001b[0m  \u001b[1;31m# type: ignore[call-arg]  # mypy is not smart enough here\u001b[0m\u001b[1;33m\u001b[0m\u001b[1;33m\u001b[0m\u001b[0m\n\u001b[1;32m--> 245\u001b[1;33m         \u001b[1;32mraise\u001b[0m \u001b[0mexception_class\u001b[0m\u001b[1;33m(\u001b[0m\u001b[0mmessage\u001b[0m\u001b[1;33m,\u001b[0m \u001b[0mscreen\u001b[0m\u001b[1;33m,\u001b[0m \u001b[0mstacktrace\u001b[0m\u001b[1;33m)\u001b[0m\u001b[1;33m\u001b[0m\u001b[1;33m\u001b[0m\u001b[0m\n\u001b[0m",
      "\u001b[1;31mWebDriverException\u001b[0m: Message: unknown error: DevToolsActivePort file doesn't exist\nStacktrace:\nBacktrace:\n\t(No symbol) [0x008F37D3]\n\t(No symbol) [0x00888B81]\n\t(No symbol) [0x0078B36D]\n\t(No symbol) [0x007AE16E]\n\t(No symbol) [0x007A9950]\n\t(No symbol) [0x007A6FC9]\n\t(No symbol) [0x007E1ED5]\n\t(No symbol) [0x007E1B2C]\n\t(No symbol) [0x007DB216]\n\t(No symbol) [0x007B0D97]\n\t(No symbol) [0x007B253D]\n\tGetHandleVerifier [0x00B6ABF2+2510930]\n\tGetHandleVerifier [0x00B98EC1+2700065]\n\tGetHandleVerifier [0x00B9C86C+2714828]\n\tGetHandleVerifier [0x009A3480+645344]\n\t(No symbol) [0x00890FD2]\n\t(No symbol) [0x00896C68]\n\t(No symbol) [0x00896D4B]\n\t(No symbol) [0x008A0D6B]\n\tBaseThreadInitThunk [0x756E00F9+25]\n\tRtlGetAppContainerNamedObjectPath [0x76FE7BBE+286]\n\tRtlGetAppContainerNamedObjectPath [0x76FE7B8E+238]\n"
     ]
    }
   ],
   "source": [
    "driver=webdriver.Chrome(r'E:\\google phots\\chromedriver_win32\\chromedriver.exe')\n",
    "driver.get('https://www.naukri.com/hr-recruiters-consultants')"
   ]
  },
  {
   "cell_type": "code",
   "execution_count": null,
   "id": "e8a734dc",
   "metadata": {},
   "outputs": [],
   "source": [
    "search = driver.find_element(By.XPATH,'/html/body/div[2]/div[2]/div[1]/div[1]/form/div[1]/div/div[1]/div[1]/div[2]/input')\n",
    "search.send_keys('Data science' + '\\n')"
   ]
  },
  {
   "cell_type": "code",
   "execution_count": null,
   "id": "1eb41e9e",
   "metadata": {},
   "outputs": [],
   "source": [
    "name2,desi2,com2,skill2,city2 = [],[],[],[],[]\n",
    "for i in driver.find_elements(By.XPATH,'//span[@class=\"fl ellipsis\"]'):\n",
    "    name2.append(i.text)\n",
    "for i in driver.find_elements(By.XPATH,'//span[@class=\"ellipsis clr\"]'):\n",
    "    desi2.append(i.text)\n",
    "for i in driver.find_elements(By.XPATH,'//div[@class=\"vcard\"]'):\n",
    "    com2.append(i.text.split('\\n')[2])\n",
    "for i in driver.find_elements(By.XPATH,'//div[@class=\"hireSec highlightable\"]'):\n",
    "    skill2.append(i.text)"
   ]
  },
  {
   "cell_type": "code",
   "execution_count": null,
   "id": "79754433",
   "metadata": {},
   "outputs": [],
   "source": [
    "for i in driver.find_elements(By.XPATH,'//small[@class=\"ellipsis\"]'):\n",
    "    try:\n",
    "        city2.append(i.text)\n",
    "    except NoSuchElementException:\n",
    "        city2.append('-')"
   ]
  },
  {
   "cell_type": "code",
   "execution_count": null,
   "id": "858f3851",
   "metadata": {
    "scrolled": false
   },
   "outputs": [],
   "source": [
    "nauk = pd.DataFrame({'Name':name2[0:48], 'Designation':desi2[0:48], 'Company':com2[0:48], 'Skills':skill2[0:48], 'City':city2[0:48]})\n",
    "nauk.head()"
   ]
  },
  {
   "cell_type": "code",
   "execution_count": null,
   "id": "4a86ba3c",
   "metadata": {},
   "outputs": [],
   "source": [
    "driver.close()"
   ]
  },
  {
   "cell_type": "code",
   "execution_count": null,
   "id": "dfbb3fe6",
   "metadata": {},
   "outputs": [],
   "source": [
    "'''8. Scrape the details of Highest selling novels.\n",
    "URL = https://www.theguardian.com/news/datablog/2012/aug/09/best-selling-books-all-time-fifty-shades-grey-compare You have to find the following details:\n",
    "A) Book name\n",
    "B) Author name\n",
    "C) Volumes sold\n",
    "D) Publisher\n",
    "E) Genre'''"
   ]
  },
  {
   "cell_type": "code",
   "execution_count": null,
   "id": "d0e650e7",
   "metadata": {},
   "outputs": [],
   "source": [
    "driver=webdriver.Chrome(r'E:\\google phots\\chromedriver_win32\\chromedriver.exe')\n",
    "driver.get('https://www.theguardian.com/news/datablog/2012/aug/09/best-selling-books-all-time-fifty-shades-grey-compare')"
   ]
  },
  {
   "cell_type": "code",
   "execution_count": null,
   "id": "70b8649f",
   "metadata": {},
   "outputs": [],
   "source": [
    "for _ in range(40):\n",
    "    driver.execute_script(\"window.scrollBy(0,40)\")"
   ]
  },
  {
   "cell_type": "code",
   "execution_count": null,
   "id": "8a991764",
   "metadata": {},
   "outputs": [],
   "source": [
    "bod = []\n",
    "for i in driver.find_elements(By.XPATH,'//tbody'):\n",
    "    bod.append(i.text.split('\\n'))"
   ]
  },
  {
   "cell_type": "code",
   "execution_count": null,
   "id": "cb1f9915",
   "metadata": {},
   "outputs": [],
   "source": [
    "bod"
   ]
  },
  {
   "cell_type": "code",
   "execution_count": null,
   "id": "d8de2650",
   "metadata": {},
   "outputs": [],
   "source": [
    "driver.close()"
   ]
  },
  {
   "cell_type": "code",
   "execution_count": null,
   "id": "67b3d429",
   "metadata": {},
   "outputs": [],
   "source": [
    "'''9. Scrape the details most watched tv series of all time from imdb.com. Url = https://www.imdb.com/list/ls095964455/\n",
    "You have to find the following details: \n",
    "A) Name\n",
    "B) Year span\n",
    "C) Genre\n",
    "D) Run time \n",
    "E) Ratings \n",
    "F) Votes'''"
   ]
  },
  {
   "cell_type": "code",
   "execution_count": null,
   "id": "df10dd17",
   "metadata": {},
   "outputs": [],
   "source": [
    "driver=webdriver.Chrome(r'E:\\google phots\\chromedriver_win32\\chromedriver.exe')\n",
    "driver.get('https://www.imdb.com/list/ls095964455/')"
   ]
  },
  {
   "cell_type": "code",
   "execution_count": null,
   "id": "4349d6a2",
   "metadata": {},
   "outputs": [],
   "source": [
    "name,year,gen,rt,rating,vote = [],[],[],[],[],[]\n",
    "\n",
    "for i in driver.find_elements(By.XPATH,'//h3[@class=\"lister-item-header\"]'):\n",
    "    na = i.text.split('(')[0]\n",
    "    name.append(na.split('.')[1])\n",
    "    year.append(i.text.split('(')[1].replace(')',' '))\n",
    "\n",
    "for i in driver.find_elements(By.XPATH,'//span[@class=\"genre\"]'):\n",
    "    gen.append(i.text)\n",
    "    \n",
    "for i in driver.find_elements(By.XPATH,'//span[@class=\"runtime\"]'):\n",
    "    rt.append(i.text)\n",
    "    \n",
    "for i in driver.find_elements(By.XPATH,'//div[@class=\"ipl-rating-widget\"]'):\n",
    "    rating.append(i.text.split('\\n')[0])\n",
    "\n",
    "for i in driver.find_elements(By.XPATH,'//span[@name=\"nv\"]'):\n",
    "    vote.append(i.text)"
   ]
  },
  {
   "cell_type": "code",
   "execution_count": null,
   "id": "ddd33eab",
   "metadata": {},
   "outputs": [],
   "source": [
    "series = pd.DataFrame({'Name':name, 'Year Span':year, 'Genre':gen, 'Run Time':rt, 'Ratings':rating, 'Votes':vote})\n",
    "series.head()"
   ]
  },
  {
   "cell_type": "code",
   "execution_count": null,
   "id": "4e5a64de",
   "metadata": {},
   "outputs": [],
   "source": [
    "driver.close()"
   ]
  },
  {
   "cell_type": "code",
   "execution_count": null,
   "id": "4ba4cf0f",
   "metadata": {},
   "outputs": [],
   "source": [
    "'''10. Details of Datasets from UCI machine learning repositories. Url = https://archive.ics.uci.edu/\n",
    "You have to find the following details:\n",
    "A) Dataset name \n",
    "B) Data type\n",
    "C) Task\n",
    "D) Attribute type \n",
    "E) No of instances \n",
    "F) No of attribute \n",
    "G) Year\n",
    "Note: - from the home page you have to go to the ShowAllDataset page through code.'''"
   ]
  },
  {
   "cell_type": "code",
   "execution_count": null,
   "id": "7611d196",
   "metadata": {},
   "outputs": [],
   "source": [
    "driver=webdriver.Chrome(r'E:\\google phots\\chromedriver_win32\\chromedriver.exe')\n",
    "driver.get('https://archive.ics.uci.edu/')"
   ]
  },
  {
   "cell_type": "code",
   "execution_count": null,
   "id": "170d3a8b",
   "metadata": {},
   "outputs": [],
   "source": [
    "al = driver.find_element(By.XPATH,'//b')\n",
    "al.click()"
   ]
  },
  {
   "cell_type": "code",
   "execution_count": null,
   "id": "a483b96a",
   "metadata": {},
   "outputs": [],
   "source": [
    "name = []\n",
    "for i in driver.find_elements(By.XPATH,'//tr'):\n",
    "    hj.append(i.text.split(','))"
   ]
  },
  {
   "cell_type": "code",
   "execution_count": null,
   "id": "c64d48b3",
   "metadata": {},
   "outputs": [],
   "source": [
    "g = hj[19::2]"
   ]
  },
  {
   "cell_type": "code",
   "execution_count": null,
   "id": "cb3581df",
   "metadata": {},
   "outputs": [],
   "source": [
    "g"
   ]
  },
  {
   "cell_type": "code",
   "execution_count": null,
   "id": "cb751e17",
   "metadata": {},
   "outputs": [],
   "source": [
    "list(g)"
   ]
  },
  {
   "cell_type": "code",
   "execution_count": null,
   "id": "f1373853",
   "metadata": {},
   "outputs": [],
   "source": [
    "df = []\n",
    "for i in list(g):\n",
    "    for j in i:\n",
    "        df.append(j.split('\\n'))"
   ]
  },
  {
   "cell_type": "code",
   "execution_count": null,
   "id": "c8654d7f",
   "metadata": {},
   "outputs": [],
   "source": [
    "df"
   ]
  }
 ],
 "metadata": {
  "kernelspec": {
   "display_name": "Python 3 (ipykernel)",
   "language": "python",
   "name": "python3"
  },
  "language_info": {
   "codemirror_mode": {
    "name": "ipython",
    "version": 3
   },
   "file_extension": ".py",
   "mimetype": "text/x-python",
   "name": "python",
   "nbconvert_exporter": "python",
   "pygments_lexer": "ipython3",
   "version": "3.9.7"
  }
 },
 "nbformat": 4,
 "nbformat_minor": 5
}
