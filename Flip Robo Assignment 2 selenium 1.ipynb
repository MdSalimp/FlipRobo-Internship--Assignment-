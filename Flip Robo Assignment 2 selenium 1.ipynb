{
 "cells": [
  {
   "cell_type": "markdown",
   "id": "e63ba3a0",
   "metadata": {},
   "source": [
    "\n",
    "# Write a python program to scrape data for “Data Analyst” Job position in “Bangalore” location"
   ]
  },
  {
   "cell_type": "code",
   "execution_count": 6,
   "id": "1d3e42ec",
   "metadata": {},
   "outputs": [
    {
     "name": "stdout",
     "output_type": "stream",
     "text": [
      "Requirement already satisfied: selenium in c:\\users\\inayat\\anaconda3\\lib\\site-packages (4.8.0)\n",
      "Requirement already satisfied: certifi>=2021.10.8 in c:\\users\\inayat\\anaconda3\\lib\\site-packages (from selenium) (2021.10.8)\n",
      "Requirement already satisfied: urllib3[socks]~=1.26 in c:\\users\\inayat\\anaconda3\\lib\\site-packages (from selenium) (1.26.7)\n",
      "Requirement already satisfied: trio~=0.17 in c:\\users\\inayat\\anaconda3\\lib\\site-packages (from selenium) (0.22.0)\n",
      "Requirement already satisfied: trio-websocket~=0.9 in c:\\users\\inayat\\anaconda3\\lib\\site-packages (from selenium) (0.9.2)\n",
      "Requirement already satisfied: cffi>=1.14 in c:\\users\\inayat\\anaconda3\\lib\\site-packages (from trio~=0.17->selenium) (1.14.6)\n",
      "Requirement already satisfied: sortedcontainers in c:\\users\\inayat\\anaconda3\\lib\\site-packages (from trio~=0.17->selenium) (2.4.0)\n",
      "Requirement already satisfied: sniffio in c:\\users\\inayat\\anaconda3\\lib\\site-packages (from trio~=0.17->selenium) (1.2.0)\n",
      "Requirement already satisfied: exceptiongroup>=1.0.0rc9 in c:\\users\\inayat\\anaconda3\\lib\\site-packages (from trio~=0.17->selenium) (1.1.0)\n",
      "Requirement already satisfied: async-generator>=1.9 in c:\\users\\inayat\\anaconda3\\lib\\site-packages (from trio~=0.17->selenium) (1.10)\n",
      "Requirement already satisfied: idna in c:\\users\\inayat\\anaconda3\\lib\\site-packages (from trio~=0.17->selenium) (3.2)\n",
      "Requirement already satisfied: attrs>=19.2.0 in c:\\users\\inayat\\anaconda3\\lib\\site-packages (from trio~=0.17->selenium) (21.2.0)\n",
      "Requirement already satisfied: outcome in c:\\users\\inayat\\anaconda3\\lib\\site-packages (from trio~=0.17->selenium) (1.2.0)\n",
      "Requirement already satisfied: pycparser in c:\\users\\inayat\\anaconda3\\lib\\site-packages (from cffi>=1.14->trio~=0.17->selenium) (2.20)\n",
      "Requirement already satisfied: wsproto>=0.14 in c:\\users\\inayat\\anaconda3\\lib\\site-packages (from trio-websocket~=0.9->selenium) (1.2.0)\n",
      "Requirement already satisfied: PySocks!=1.5.7,<2.0,>=1.5.6 in c:\\users\\inayat\\anaconda3\\lib\\site-packages (from urllib3[socks]~=1.26->selenium) (1.7.1)\n",
      "Requirement already satisfied: h11<1,>=0.9.0 in c:\\users\\inayat\\anaconda3\\lib\\site-packages (from wsproto>=0.14->trio-websocket~=0.9->selenium) (0.14.0)\n"
     ]
    }
   ],
   "source": [
    "!pip install selenium"
   ]
  },
  {
   "cell_type": "code",
   "execution_count": 7,
   "id": "1f086ac7",
   "metadata": {},
   "outputs": [],
   "source": [
    "import selenium\n",
    "import pandas as pd\n",
    "from selenium import webdriver\n",
    "import warnings\n",
    "warnings.filterwarnings('ignore')\n",
    "from selenium.common.exceptions import StaleElementReferenceException, NoSuchElementException\n",
    "from selenium.webdriver.common.by import By\n",
    "import time"
   ]
  },
  {
   "cell_type": "code",
   "execution_count": 8,
   "id": "3b295a7c",
   "metadata": {},
   "outputs": [],
   "source": [
    "driver=webdriver.Chrome(r'E:\\google phots\\chromedriver_win32\\chromedriver.exe')"
   ]
  },
  {
   "cell_type": "code",
   "execution_count": 9,
   "id": "e9a7dd56",
   "metadata": {},
   "outputs": [],
   "source": [
    "driver.get('https://www.naukri.com/')"
   ]
  },
  {
   "cell_type": "code",
   "execution_count": 10,
   "id": "9d060c96",
   "metadata": {},
   "outputs": [
    {
     "ename": "NoSuchElementException",
     "evalue": "Message: no such element: Unable to locate element: {\"method\":\"xpath\",\"selector\":\"/html/body/div[1]/div[6]/div/div/div[5]/div/div/div/input\"}\n  (Session info: chrome=111.0.5563.147)\nStacktrace:\nBacktrace:\n\t(No symbol) [0x004A37D3]\n\t(No symbol) [0x00438B81]\n\t(No symbol) [0x0033B36D]\n\t(No symbol) [0x0036D382]\n\t(No symbol) [0x0036D4BB]\n\t(No symbol) [0x003A3302]\n\t(No symbol) [0x0038B464]\n\t(No symbol) [0x003A1215]\n\t(No symbol) [0x0038B216]\n\t(No symbol) [0x00360D97]\n\t(No symbol) [0x0036253D]\n\tGetHandleVerifier [0x0071ABF2+2510930]\n\tGetHandleVerifier [0x00748EC1+2700065]\n\tGetHandleVerifier [0x0074C86C+2714828]\n\tGetHandleVerifier [0x00553480+645344]\n\t(No symbol) [0x00440FD2]\n\t(No symbol) [0x00446C68]\n\t(No symbol) [0x00446D4B]\n\t(No symbol) [0x00450D6B]\n\tBaseThreadInitThunk [0x756E00F9+25]\n\tRtlGetAppContainerNamedObjectPath [0x76FE7BBE+286]\n\tRtlGetAppContainerNamedObjectPath [0x76FE7B8E+238]\n",
     "output_type": "error",
     "traceback": [
      "\u001b[1;31m---------------------------------------------------------------------------\u001b[0m",
      "\u001b[1;31mNoSuchElementException\u001b[0m                    Traceback (most recent call last)",
      "\u001b[1;32m~\\AppData\\Local\\Temp/ipykernel_12944/2436009163.py\u001b[0m in \u001b[0;36m<module>\u001b[1;34m\u001b[0m\n\u001b[0;32m      1\u001b[0m \u001b[0mdesignation\u001b[0m\u001b[1;33m=\u001b[0m\u001b[0mdriver\u001b[0m\u001b[1;33m.\u001b[0m\u001b[0mfind_element\u001b[0m\u001b[1;33m(\u001b[0m\u001b[0mBy\u001b[0m\u001b[1;33m.\u001b[0m\u001b[0mCLASS_NAME\u001b[0m\u001b[1;33m,\u001b[0m\u001b[1;34m\"suggestor-input\"\u001b[0m\u001b[1;33m)\u001b[0m\u001b[1;33m\u001b[0m\u001b[1;33m\u001b[0m\u001b[0m\n\u001b[0;32m      2\u001b[0m \u001b[0mdesignation\u001b[0m\u001b[1;33m.\u001b[0m\u001b[0msend_keys\u001b[0m\u001b[1;33m(\u001b[0m\u001b[1;34m'Data Analyst'\u001b[0m\u001b[1;33m)\u001b[0m\u001b[1;33m\u001b[0m\u001b[1;33m\u001b[0m\u001b[0m\n\u001b[1;32m----> 3\u001b[1;33m \u001b[0mlocation\u001b[0m\u001b[1;33m=\u001b[0m\u001b[0mdriver\u001b[0m\u001b[1;33m.\u001b[0m\u001b[0mfind_element\u001b[0m\u001b[1;33m(\u001b[0m\u001b[0mBy\u001b[0m\u001b[1;33m.\u001b[0m\u001b[0mXPATH\u001b[0m\u001b[1;33m,\u001b[0m\u001b[1;34m\"/html/body/div[1]/div[6]/div/div/div[5]/div/div/div/input\"\u001b[0m\u001b[1;33m)\u001b[0m\u001b[1;33m\u001b[0m\u001b[1;33m\u001b[0m\u001b[0m\n\u001b[0m\u001b[0;32m      4\u001b[0m \u001b[0mlocation\u001b[0m\u001b[1;33m.\u001b[0m\u001b[0msend_keys\u001b[0m\u001b[1;33m(\u001b[0m\u001b[1;34m'Bangalore/Bengaluru'\u001b[0m\u001b[1;33m)\u001b[0m\u001b[1;33m\u001b[0m\u001b[1;33m\u001b[0m\u001b[0m\n\u001b[0;32m      5\u001b[0m \u001b[0msearch\u001b[0m\u001b[1;33m=\u001b[0m\u001b[0mdriver\u001b[0m\u001b[1;33m.\u001b[0m\u001b[0mfind_element\u001b[0m\u001b[1;33m(\u001b[0m\u001b[0mBy\u001b[0m\u001b[1;33m.\u001b[0m\u001b[0mCLASS_NAME\u001b[0m\u001b[1;33m,\u001b[0m\u001b[1;34m\"qsbSubmit\"\u001b[0m\u001b[1;33m)\u001b[0m\u001b[1;33m\u001b[0m\u001b[1;33m\u001b[0m\u001b[0m\n",
      "\u001b[1;32m~\\anaconda3\\lib\\site-packages\\selenium\\webdriver\\remote\\webdriver.py\u001b[0m in \u001b[0;36mfind_element\u001b[1;34m(self, by, value)\u001b[0m\n\u001b[0;32m    828\u001b[0m             \u001b[0mvalue\u001b[0m \u001b[1;33m=\u001b[0m \u001b[1;34mf'[name=\"{value}\"]'\u001b[0m\u001b[1;33m\u001b[0m\u001b[1;33m\u001b[0m\u001b[0m\n\u001b[0;32m    829\u001b[0m \u001b[1;33m\u001b[0m\u001b[0m\n\u001b[1;32m--> 830\u001b[1;33m         \u001b[1;32mreturn\u001b[0m \u001b[0mself\u001b[0m\u001b[1;33m.\u001b[0m\u001b[0mexecute\u001b[0m\u001b[1;33m(\u001b[0m\u001b[0mCommand\u001b[0m\u001b[1;33m.\u001b[0m\u001b[0mFIND_ELEMENT\u001b[0m\u001b[1;33m,\u001b[0m \u001b[1;33m{\u001b[0m\u001b[1;34m\"using\"\u001b[0m\u001b[1;33m:\u001b[0m \u001b[0mby\u001b[0m\u001b[1;33m,\u001b[0m \u001b[1;34m\"value\"\u001b[0m\u001b[1;33m:\u001b[0m \u001b[0mvalue\u001b[0m\u001b[1;33m}\u001b[0m\u001b[1;33m)\u001b[0m\u001b[1;33m[\u001b[0m\u001b[1;34m\"value\"\u001b[0m\u001b[1;33m]\u001b[0m\u001b[1;33m\u001b[0m\u001b[1;33m\u001b[0m\u001b[0m\n\u001b[0m\u001b[0;32m    831\u001b[0m \u001b[1;33m\u001b[0m\u001b[0m\n\u001b[0;32m    832\u001b[0m     \u001b[1;32mdef\u001b[0m \u001b[0mfind_elements\u001b[0m\u001b[1;33m(\u001b[0m\u001b[0mself\u001b[0m\u001b[1;33m,\u001b[0m \u001b[0mby\u001b[0m\u001b[1;33m=\u001b[0m\u001b[0mBy\u001b[0m\u001b[1;33m.\u001b[0m\u001b[0mID\u001b[0m\u001b[1;33m,\u001b[0m \u001b[0mvalue\u001b[0m\u001b[1;33m:\u001b[0m \u001b[0mOptional\u001b[0m\u001b[1;33m[\u001b[0m\u001b[0mstr\u001b[0m\u001b[1;33m]\u001b[0m \u001b[1;33m=\u001b[0m \u001b[1;32mNone\u001b[0m\u001b[1;33m)\u001b[0m \u001b[1;33m->\u001b[0m \u001b[0mList\u001b[0m\u001b[1;33m[\u001b[0m\u001b[0mWebElement\u001b[0m\u001b[1;33m]\u001b[0m\u001b[1;33m:\u001b[0m\u001b[1;33m\u001b[0m\u001b[1;33m\u001b[0m\u001b[0m\n",
      "\u001b[1;32m~\\anaconda3\\lib\\site-packages\\selenium\\webdriver\\remote\\webdriver.py\u001b[0m in \u001b[0;36mexecute\u001b[1;34m(self, driver_command, params)\u001b[0m\n\u001b[0;32m    438\u001b[0m         \u001b[0mresponse\u001b[0m \u001b[1;33m=\u001b[0m \u001b[0mself\u001b[0m\u001b[1;33m.\u001b[0m\u001b[0mcommand_executor\u001b[0m\u001b[1;33m.\u001b[0m\u001b[0mexecute\u001b[0m\u001b[1;33m(\u001b[0m\u001b[0mdriver_command\u001b[0m\u001b[1;33m,\u001b[0m \u001b[0mparams\u001b[0m\u001b[1;33m)\u001b[0m\u001b[1;33m\u001b[0m\u001b[1;33m\u001b[0m\u001b[0m\n\u001b[0;32m    439\u001b[0m         \u001b[1;32mif\u001b[0m \u001b[0mresponse\u001b[0m\u001b[1;33m:\u001b[0m\u001b[1;33m\u001b[0m\u001b[1;33m\u001b[0m\u001b[0m\n\u001b[1;32m--> 440\u001b[1;33m             \u001b[0mself\u001b[0m\u001b[1;33m.\u001b[0m\u001b[0merror_handler\u001b[0m\u001b[1;33m.\u001b[0m\u001b[0mcheck_response\u001b[0m\u001b[1;33m(\u001b[0m\u001b[0mresponse\u001b[0m\u001b[1;33m)\u001b[0m\u001b[1;33m\u001b[0m\u001b[1;33m\u001b[0m\u001b[0m\n\u001b[0m\u001b[0;32m    441\u001b[0m             \u001b[0mresponse\u001b[0m\u001b[1;33m[\u001b[0m\u001b[1;34m\"value\"\u001b[0m\u001b[1;33m]\u001b[0m \u001b[1;33m=\u001b[0m \u001b[0mself\u001b[0m\u001b[1;33m.\u001b[0m\u001b[0m_unwrap_value\u001b[0m\u001b[1;33m(\u001b[0m\u001b[0mresponse\u001b[0m\u001b[1;33m.\u001b[0m\u001b[0mget\u001b[0m\u001b[1;33m(\u001b[0m\u001b[1;34m\"value\"\u001b[0m\u001b[1;33m,\u001b[0m \u001b[1;32mNone\u001b[0m\u001b[1;33m)\u001b[0m\u001b[1;33m)\u001b[0m\u001b[1;33m\u001b[0m\u001b[1;33m\u001b[0m\u001b[0m\n\u001b[0;32m    442\u001b[0m             \u001b[1;32mreturn\u001b[0m \u001b[0mresponse\u001b[0m\u001b[1;33m\u001b[0m\u001b[1;33m\u001b[0m\u001b[0m\n",
      "\u001b[1;32m~\\anaconda3\\lib\\site-packages\\selenium\\webdriver\\remote\\errorhandler.py\u001b[0m in \u001b[0;36mcheck_response\u001b[1;34m(self, response)\u001b[0m\n\u001b[0;32m    243\u001b[0m                 \u001b[0malert_text\u001b[0m \u001b[1;33m=\u001b[0m \u001b[0mvalue\u001b[0m\u001b[1;33m[\u001b[0m\u001b[1;34m\"alert\"\u001b[0m\u001b[1;33m]\u001b[0m\u001b[1;33m.\u001b[0m\u001b[0mget\u001b[0m\u001b[1;33m(\u001b[0m\u001b[1;34m\"text\"\u001b[0m\u001b[1;33m)\u001b[0m\u001b[1;33m\u001b[0m\u001b[1;33m\u001b[0m\u001b[0m\n\u001b[0;32m    244\u001b[0m             \u001b[1;32mraise\u001b[0m \u001b[0mexception_class\u001b[0m\u001b[1;33m(\u001b[0m\u001b[0mmessage\u001b[0m\u001b[1;33m,\u001b[0m \u001b[0mscreen\u001b[0m\u001b[1;33m,\u001b[0m \u001b[0mstacktrace\u001b[0m\u001b[1;33m,\u001b[0m \u001b[0malert_text\u001b[0m\u001b[1;33m)\u001b[0m  \u001b[1;31m# type: ignore[call-arg]  # mypy is not smart enough here\u001b[0m\u001b[1;33m\u001b[0m\u001b[1;33m\u001b[0m\u001b[0m\n\u001b[1;32m--> 245\u001b[1;33m         \u001b[1;32mraise\u001b[0m \u001b[0mexception_class\u001b[0m\u001b[1;33m(\u001b[0m\u001b[0mmessage\u001b[0m\u001b[1;33m,\u001b[0m \u001b[0mscreen\u001b[0m\u001b[1;33m,\u001b[0m \u001b[0mstacktrace\u001b[0m\u001b[1;33m)\u001b[0m\u001b[1;33m\u001b[0m\u001b[1;33m\u001b[0m\u001b[0m\n\u001b[0m",
      "\u001b[1;31mNoSuchElementException\u001b[0m: Message: no such element: Unable to locate element: {\"method\":\"xpath\",\"selector\":\"/html/body/div[1]/div[6]/div/div/div[5]/div/div/div/input\"}\n  (Session info: chrome=111.0.5563.147)\nStacktrace:\nBacktrace:\n\t(No symbol) [0x004A37D3]\n\t(No symbol) [0x00438B81]\n\t(No symbol) [0x0033B36D]\n\t(No symbol) [0x0036D382]\n\t(No symbol) [0x0036D4BB]\n\t(No symbol) [0x003A3302]\n\t(No symbol) [0x0038B464]\n\t(No symbol) [0x003A1215]\n\t(No symbol) [0x0038B216]\n\t(No symbol) [0x00360D97]\n\t(No symbol) [0x0036253D]\n\tGetHandleVerifier [0x0071ABF2+2510930]\n\tGetHandleVerifier [0x00748EC1+2700065]\n\tGetHandleVerifier [0x0074C86C+2714828]\n\tGetHandleVerifier [0x00553480+645344]\n\t(No symbol) [0x00440FD2]\n\t(No symbol) [0x00446C68]\n\t(No symbol) [0x00446D4B]\n\t(No symbol) [0x00450D6B]\n\tBaseThreadInitThunk [0x756E00F9+25]\n\tRtlGetAppContainerNamedObjectPath [0x76FE7BBE+286]\n\tRtlGetAppContainerNamedObjectPath [0x76FE7B8E+238]\n"
     ]
    }
   ],
   "source": [
    "designation=driver.find_element(By.CLASS_NAME,\"suggestor-input\")\n",
    "designation.send_keys('Data Analyst')\n",
    "location=driver.find_element(By.XPATH,\"/html/body/div[1]/div[6]/div/div/div[5]/div/div/div/input\")\n",
    "location.send_keys('Bangalore/Bengaluru')\n",
    "search=driver.find_element(By.CLASS_NAME,\"qsbSubmit\")\n",
    "search.click()"
   ]
  },
  {
   "cell_type": "code",
   "execution_count": null,
   "id": "00a6978f",
   "metadata": {},
   "outputs": [],
   "source": [
    "job_title=[]\n",
    "job_location=[]\n",
    "company_name=[]\n",
    "experience_required=[]\n",
    "\n",
    "title_tags=driver.find_elements(By.XPATH,\"//a[@class='title ellipsis']\")\n",
    "for i in title_tags[0:10]:\n",
    "    title=i.text\n",
    "    job_title.append(title)\n",
    "\n",
    "location_tags=driver.find_elements(By.XPATH,\"//li[@class='fleft br2 placeHolderLi location']\")\n",
    "for i in location_tags[0:10]:\n",
    "    location=i.text\n",
    "    job_location.append(location)\n",
    "\n",
    "company_tags=driver.find_elements(By.XPATH,\"//a[@class='subTitle ellipsis fleft']\")\n",
    "for i in company_tags[0:10]:\n",
    "    company=i.text\n",
    "    company_name.append(company)\n",
    "\n",
    "experience_tags=driver.find_elements(By.XPATH,\"//li[@class='fleft br2 placeHolderLi experience']//span\")\n",
    "for i in experience_tags[0:10]:\n",
    "    exp=i.text\n",
    "    experience_required.append(exp) "
   ]
  },
  {
   "cell_type": "code",
   "execution_count": null,
   "id": "fce9ddae",
   "metadata": {},
   "outputs": [],
   "source": [
    "print(len(job_title),len(job_location),len(company_name),len(experience_required))"
   ]
  },
  {
   "cell_type": "code",
   "execution_count": null,
   "id": "ef68eed0",
   "metadata": {},
   "outputs": [],
   "source": [
    "df=pd.DataFrame({'Job_title':job_title,'Job_location':job_location,'Company_name':company_name,'Experience_required':experience_required})\n",
    "df"
   ]
  },
  {
   "cell_type": "code",
   "execution_count": null,
   "id": "8ca5014e",
   "metadata": {},
   "outputs": [],
   "source": [
    "driver.close()"
   ]
  },
  {
   "cell_type": "markdown",
   "id": "3c04bda8",
   "metadata": {},
   "source": [
    "# \n",
    "\n",
    "\n",
    "Write a python program to scrape data for “Data Scientist” Job position in “Bangalore” location\n"
   ]
  },
  {
   "cell_type": "code",
   "execution_count": 11,
   "id": "f1192ae8",
   "metadata": {},
   "outputs": [
    {
     "ename": "NoSuchElementException",
     "evalue": "Message: no such element: Unable to locate element: {\"method\":\"xpath\",\"selector\":\"/html/body/div[1]/div[6]/div/div/div[5]/div/div/div/input\"}\n  (Session info: chrome=111.0.5563.147)\nStacktrace:\nBacktrace:\n\t(No symbol) [0x004A37D3]\n\t(No symbol) [0x00438B81]\n\t(No symbol) [0x0033B36D]\n\t(No symbol) [0x0036D382]\n\t(No symbol) [0x0036D4BB]\n\t(No symbol) [0x003A3302]\n\t(No symbol) [0x0038B464]\n\t(No symbol) [0x003A1215]\n\t(No symbol) [0x0038B216]\n\t(No symbol) [0x00360D97]\n\t(No symbol) [0x0036253D]\n\tGetHandleVerifier [0x0071ABF2+2510930]\n\tGetHandleVerifier [0x00748EC1+2700065]\n\tGetHandleVerifier [0x0074C86C+2714828]\n\tGetHandleVerifier [0x00553480+645344]\n\t(No symbol) [0x00440FD2]\n\t(No symbol) [0x00446C68]\n\t(No symbol) [0x00446D4B]\n\t(No symbol) [0x00450D6B]\n\tBaseThreadInitThunk [0x756E00F9+25]\n\tRtlGetAppContainerNamedObjectPath [0x76FE7BBE+286]\n\tRtlGetAppContainerNamedObjectPath [0x76FE7B8E+238]\n",
     "output_type": "error",
     "traceback": [
      "\u001b[1;31m---------------------------------------------------------------------------\u001b[0m",
      "\u001b[1;31mNoSuchElementException\u001b[0m                    Traceback (most recent call last)",
      "\u001b[1;32m~\\AppData\\Local\\Temp/ipykernel_12944/1559510278.py\u001b[0m in \u001b[0;36m<module>\u001b[1;34m\u001b[0m\n\u001b[0;32m      3\u001b[0m \u001b[0mdesignation\u001b[0m\u001b[1;33m=\u001b[0m\u001b[0mdriver\u001b[0m\u001b[1;33m.\u001b[0m\u001b[0mfind_element\u001b[0m\u001b[1;33m(\u001b[0m\u001b[0mBy\u001b[0m\u001b[1;33m.\u001b[0m\u001b[0mCLASS_NAME\u001b[0m\u001b[1;33m,\u001b[0m\u001b[1;34m\"suggestor-input\"\u001b[0m\u001b[1;33m)\u001b[0m\u001b[1;33m\u001b[0m\u001b[1;33m\u001b[0m\u001b[0m\n\u001b[0;32m      4\u001b[0m \u001b[0mdesignation\u001b[0m\u001b[1;33m.\u001b[0m\u001b[0msend_keys\u001b[0m\u001b[1;33m(\u001b[0m\u001b[1;34m'Data Scientist'\u001b[0m\u001b[1;33m)\u001b[0m\u001b[1;33m\u001b[0m\u001b[1;33m\u001b[0m\u001b[0m\n\u001b[1;32m----> 5\u001b[1;33m \u001b[0mlocation\u001b[0m\u001b[1;33m=\u001b[0m\u001b[0mdriver\u001b[0m\u001b[1;33m.\u001b[0m\u001b[0mfind_element\u001b[0m\u001b[1;33m(\u001b[0m\u001b[0mBy\u001b[0m\u001b[1;33m.\u001b[0m\u001b[0mXPATH\u001b[0m\u001b[1;33m,\u001b[0m\u001b[1;34m\"/html/body/div[1]/div[6]/div/div/div[5]/div/div/div/input\"\u001b[0m\u001b[1;33m)\u001b[0m\u001b[1;33m\u001b[0m\u001b[1;33m\u001b[0m\u001b[0m\n\u001b[0m\u001b[0;32m      6\u001b[0m \u001b[0mlocation\u001b[0m\u001b[1;33m.\u001b[0m\u001b[0msend_keys\u001b[0m\u001b[1;33m(\u001b[0m\u001b[1;34m'Bangalore/Bengaluru'\u001b[0m\u001b[1;33m)\u001b[0m\u001b[1;33m\u001b[0m\u001b[1;33m\u001b[0m\u001b[0m\n\u001b[0;32m      7\u001b[0m \u001b[0msearch\u001b[0m\u001b[1;33m=\u001b[0m\u001b[0mdriver\u001b[0m\u001b[1;33m.\u001b[0m\u001b[0mfind_element\u001b[0m\u001b[1;33m(\u001b[0m\u001b[0mBy\u001b[0m\u001b[1;33m.\u001b[0m\u001b[0mCLASS_NAME\u001b[0m\u001b[1;33m,\u001b[0m\u001b[1;34m\"qsbSubmit\"\u001b[0m\u001b[1;33m)\u001b[0m\u001b[1;33m\u001b[0m\u001b[1;33m\u001b[0m\u001b[0m\n",
      "\u001b[1;32m~\\anaconda3\\lib\\site-packages\\selenium\\webdriver\\remote\\webdriver.py\u001b[0m in \u001b[0;36mfind_element\u001b[1;34m(self, by, value)\u001b[0m\n\u001b[0;32m    828\u001b[0m             \u001b[0mvalue\u001b[0m \u001b[1;33m=\u001b[0m \u001b[1;34mf'[name=\"{value}\"]'\u001b[0m\u001b[1;33m\u001b[0m\u001b[1;33m\u001b[0m\u001b[0m\n\u001b[0;32m    829\u001b[0m \u001b[1;33m\u001b[0m\u001b[0m\n\u001b[1;32m--> 830\u001b[1;33m         \u001b[1;32mreturn\u001b[0m \u001b[0mself\u001b[0m\u001b[1;33m.\u001b[0m\u001b[0mexecute\u001b[0m\u001b[1;33m(\u001b[0m\u001b[0mCommand\u001b[0m\u001b[1;33m.\u001b[0m\u001b[0mFIND_ELEMENT\u001b[0m\u001b[1;33m,\u001b[0m \u001b[1;33m{\u001b[0m\u001b[1;34m\"using\"\u001b[0m\u001b[1;33m:\u001b[0m \u001b[0mby\u001b[0m\u001b[1;33m,\u001b[0m \u001b[1;34m\"value\"\u001b[0m\u001b[1;33m:\u001b[0m \u001b[0mvalue\u001b[0m\u001b[1;33m}\u001b[0m\u001b[1;33m)\u001b[0m\u001b[1;33m[\u001b[0m\u001b[1;34m\"value\"\u001b[0m\u001b[1;33m]\u001b[0m\u001b[1;33m\u001b[0m\u001b[1;33m\u001b[0m\u001b[0m\n\u001b[0m\u001b[0;32m    831\u001b[0m \u001b[1;33m\u001b[0m\u001b[0m\n\u001b[0;32m    832\u001b[0m     \u001b[1;32mdef\u001b[0m \u001b[0mfind_elements\u001b[0m\u001b[1;33m(\u001b[0m\u001b[0mself\u001b[0m\u001b[1;33m,\u001b[0m \u001b[0mby\u001b[0m\u001b[1;33m=\u001b[0m\u001b[0mBy\u001b[0m\u001b[1;33m.\u001b[0m\u001b[0mID\u001b[0m\u001b[1;33m,\u001b[0m \u001b[0mvalue\u001b[0m\u001b[1;33m:\u001b[0m \u001b[0mOptional\u001b[0m\u001b[1;33m[\u001b[0m\u001b[0mstr\u001b[0m\u001b[1;33m]\u001b[0m \u001b[1;33m=\u001b[0m \u001b[1;32mNone\u001b[0m\u001b[1;33m)\u001b[0m \u001b[1;33m->\u001b[0m \u001b[0mList\u001b[0m\u001b[1;33m[\u001b[0m\u001b[0mWebElement\u001b[0m\u001b[1;33m]\u001b[0m\u001b[1;33m:\u001b[0m\u001b[1;33m\u001b[0m\u001b[1;33m\u001b[0m\u001b[0m\n",
      "\u001b[1;32m~\\anaconda3\\lib\\site-packages\\selenium\\webdriver\\remote\\webdriver.py\u001b[0m in \u001b[0;36mexecute\u001b[1;34m(self, driver_command, params)\u001b[0m\n\u001b[0;32m    438\u001b[0m         \u001b[0mresponse\u001b[0m \u001b[1;33m=\u001b[0m \u001b[0mself\u001b[0m\u001b[1;33m.\u001b[0m\u001b[0mcommand_executor\u001b[0m\u001b[1;33m.\u001b[0m\u001b[0mexecute\u001b[0m\u001b[1;33m(\u001b[0m\u001b[0mdriver_command\u001b[0m\u001b[1;33m,\u001b[0m \u001b[0mparams\u001b[0m\u001b[1;33m)\u001b[0m\u001b[1;33m\u001b[0m\u001b[1;33m\u001b[0m\u001b[0m\n\u001b[0;32m    439\u001b[0m         \u001b[1;32mif\u001b[0m \u001b[0mresponse\u001b[0m\u001b[1;33m:\u001b[0m\u001b[1;33m\u001b[0m\u001b[1;33m\u001b[0m\u001b[0m\n\u001b[1;32m--> 440\u001b[1;33m             \u001b[0mself\u001b[0m\u001b[1;33m.\u001b[0m\u001b[0merror_handler\u001b[0m\u001b[1;33m.\u001b[0m\u001b[0mcheck_response\u001b[0m\u001b[1;33m(\u001b[0m\u001b[0mresponse\u001b[0m\u001b[1;33m)\u001b[0m\u001b[1;33m\u001b[0m\u001b[1;33m\u001b[0m\u001b[0m\n\u001b[0m\u001b[0;32m    441\u001b[0m             \u001b[0mresponse\u001b[0m\u001b[1;33m[\u001b[0m\u001b[1;34m\"value\"\u001b[0m\u001b[1;33m]\u001b[0m \u001b[1;33m=\u001b[0m \u001b[0mself\u001b[0m\u001b[1;33m.\u001b[0m\u001b[0m_unwrap_value\u001b[0m\u001b[1;33m(\u001b[0m\u001b[0mresponse\u001b[0m\u001b[1;33m.\u001b[0m\u001b[0mget\u001b[0m\u001b[1;33m(\u001b[0m\u001b[1;34m\"value\"\u001b[0m\u001b[1;33m,\u001b[0m \u001b[1;32mNone\u001b[0m\u001b[1;33m)\u001b[0m\u001b[1;33m)\u001b[0m\u001b[1;33m\u001b[0m\u001b[1;33m\u001b[0m\u001b[0m\n\u001b[0;32m    442\u001b[0m             \u001b[1;32mreturn\u001b[0m \u001b[0mresponse\u001b[0m\u001b[1;33m\u001b[0m\u001b[1;33m\u001b[0m\u001b[0m\n",
      "\u001b[1;32m~\\anaconda3\\lib\\site-packages\\selenium\\webdriver\\remote\\errorhandler.py\u001b[0m in \u001b[0;36mcheck_response\u001b[1;34m(self, response)\u001b[0m\n\u001b[0;32m    243\u001b[0m                 \u001b[0malert_text\u001b[0m \u001b[1;33m=\u001b[0m \u001b[0mvalue\u001b[0m\u001b[1;33m[\u001b[0m\u001b[1;34m\"alert\"\u001b[0m\u001b[1;33m]\u001b[0m\u001b[1;33m.\u001b[0m\u001b[0mget\u001b[0m\u001b[1;33m(\u001b[0m\u001b[1;34m\"text\"\u001b[0m\u001b[1;33m)\u001b[0m\u001b[1;33m\u001b[0m\u001b[1;33m\u001b[0m\u001b[0m\n\u001b[0;32m    244\u001b[0m             \u001b[1;32mraise\u001b[0m \u001b[0mexception_class\u001b[0m\u001b[1;33m(\u001b[0m\u001b[0mmessage\u001b[0m\u001b[1;33m,\u001b[0m \u001b[0mscreen\u001b[0m\u001b[1;33m,\u001b[0m \u001b[0mstacktrace\u001b[0m\u001b[1;33m,\u001b[0m \u001b[0malert_text\u001b[0m\u001b[1;33m)\u001b[0m  \u001b[1;31m# type: ignore[call-arg]  # mypy is not smart enough here\u001b[0m\u001b[1;33m\u001b[0m\u001b[1;33m\u001b[0m\u001b[0m\n\u001b[1;32m--> 245\u001b[1;33m         \u001b[1;32mraise\u001b[0m \u001b[0mexception_class\u001b[0m\u001b[1;33m(\u001b[0m\u001b[0mmessage\u001b[0m\u001b[1;33m,\u001b[0m \u001b[0mscreen\u001b[0m\u001b[1;33m,\u001b[0m \u001b[0mstacktrace\u001b[0m\u001b[1;33m)\u001b[0m\u001b[1;33m\u001b[0m\u001b[1;33m\u001b[0m\u001b[0m\n\u001b[0m",
      "\u001b[1;31mNoSuchElementException\u001b[0m: Message: no such element: Unable to locate element: {\"method\":\"xpath\",\"selector\":\"/html/body/div[1]/div[6]/div/div/div[5]/div/div/div/input\"}\n  (Session info: chrome=111.0.5563.147)\nStacktrace:\nBacktrace:\n\t(No symbol) [0x004A37D3]\n\t(No symbol) [0x00438B81]\n\t(No symbol) [0x0033B36D]\n\t(No symbol) [0x0036D382]\n\t(No symbol) [0x0036D4BB]\n\t(No symbol) [0x003A3302]\n\t(No symbol) [0x0038B464]\n\t(No symbol) [0x003A1215]\n\t(No symbol) [0x0038B216]\n\t(No symbol) [0x00360D97]\n\t(No symbol) [0x0036253D]\n\tGetHandleVerifier [0x0071ABF2+2510930]\n\tGetHandleVerifier [0x00748EC1+2700065]\n\tGetHandleVerifier [0x0074C86C+2714828]\n\tGetHandleVerifier [0x00553480+645344]\n\t(No symbol) [0x00440FD2]\n\t(No symbol) [0x00446C68]\n\t(No symbol) [0x00446D4B]\n\t(No symbol) [0x00450D6B]\n\tBaseThreadInitThunk [0x756E00F9+25]\n\tRtlGetAppContainerNamedObjectPath [0x76FE7BBE+286]\n\tRtlGetAppContainerNamedObjectPath [0x76FE7B8E+238]\n"
     ]
    }
   ],
   "source": [
    "driver=webdriver.Chrome(r'E:\\google phots\\chromedriver_win32\\chromedriver.exe')\n",
    "driver.get('https://www.naukri.com/')\n",
    "designation=driver.find_element(By.CLASS_NAME,\"suggestor-input\")\n",
    "designation.send_keys('Data Scientist')\n",
    "location=driver.find_element(By.XPATH,\"/html/body/div[1]/div[6]/div/div/div[5]/div/div/div/input\")\n",
    "location.send_keys('Bangalore/Bengaluru')\n",
    "search=driver.find_element(By.CLASS_NAME,\"qsbSubmit\")\n",
    "search.click()"
   ]
  },
  {
   "cell_type": "code",
   "execution_count": null,
   "id": "c0ddd721",
   "metadata": {},
   "outputs": [],
   "source": [
    "job_title=[]\n",
    "job_location=[]\n",
    "company_name=[]\n",
    "experience_required=[]\n",
    "\n",
    "title_tags=driver.find_elements(By.XPATH,\"//a[@class='title ellipsis']\")\n",
    "for i in title_tags[0:10]:\n",
    "    title=i.text\n",
    "    job_title.append(title)\n",
    "\n",
    "location_tags=driver.find_elements(By.XPATH,\"//li[@class='fleft br2 placeHolderLi location']\")\n",
    "for i in location_tags[0:10]:\n",
    "    location=i.text\n",
    "    job_location.append(location)\n",
    "\n",
    "\n",
    "company_tags=driver.find_elements(By.XPATH,\"//a[@class='title ellipsis']\")\n",
    "for i in company_tags[0:10]:\n",
    "    company=i.text\n",
    "    company_name.append(company)\n",
    "\n",
    "experience_tags=driver.find_elements(By.XPATH,\"//li[@class='fleft br2 placeHolderLi experience']//span\")\n",
    "for i in experience_tags[0:10]:\n",
    "    exp=i.text\n",
    "    experience_required.append(exp) "
   ]
  },
  {
   "cell_type": "code",
   "execution_count": null,
   "id": "0e022ac8",
   "metadata": {},
   "outputs": [],
   "source": [
    "print(len(job_title),len(job_location),len(company_name),len(experience_required))"
   ]
  },
  {
   "cell_type": "code",
   "execution_count": null,
   "id": "5fe41a4f",
   "metadata": {
    "scrolled": true
   },
   "outputs": [],
   "source": [
    "df=pd.DataFrame({'Job_title':job_title,'Job_location':job_location,'Company_name':company_name,'Experience_required':experience_required})\n",
    "df"
   ]
  },
  {
   "cell_type": "markdown",
   "id": "91f8a7f8",
   "metadata": {},
   "source": [
    "In this question you have to scrape data using the filters available on the webpage as shown below:\n",
    "ASSIGNMENT 2\n",
    "You have to use the location and salary filter.\n",
    "You have to scrape data for “Data Scientist” designation for first 10 job results.\n",
    "You have to scrape the job-title, job-location, company name, experience required.\n",
    "The location filter to be used is “Delhi/NCR”. The salary filter to be used is “3-6” lakhs\n",
    "The task will be done as shown in the below steps:\n",
    "1. first get the webpage https://www.naukri.com/\n",
    "2. Enter “Data Scientist” in “Skill, Designations, and Companies” field.\n",
    "3. Then click the search button.\n",
    "4. Then apply the location filter and salary filter by checking the respective boxes\n",
    "5. Then scrape the data for the first 10 jobs results you get.\n",
    "6. Finally create a dataframe of the scraped data.\n"
   ]
  },
  {
   "cell_type": "code",
   "execution_count": null,
   "id": "f800fca5",
   "metadata": {},
   "outputs": [],
   "source": [
    "driver.get('https://www.naukri.com/')\n",
    "designation=driver.find_element(By.CLASS_NAME,\"suggestor-input\")\n",
    "designation.send_keys('Data Scientist')\n",
    "location=driver.find_element(By.XPATH,\"/html/body/div[1]/div[6]/div/div/div[5]/div/div/div/input\")\n",
    "location.send_keys('Delhi / NCR')\n",
    "search=driver.find_element(By.CLASS_NAME,\"qsbSubmit\")\n",
    "search.click()"
   ]
  },
  {
   "cell_type": "code",
   "execution_count": null,
   "id": "21c5fb67",
   "metadata": {},
   "outputs": [],
   "source": [
    "job_title=[]\n",
    "job_location=[]\n",
    "company_name=[]\n",
    "experience_required=[]\n",
    "\n",
    "title_tags=driver.find_elements(By.XPATH,\"//a[@class='title ellipsis']\")\n",
    "for i in title_tags[0:10]:\n",
    "    title=i.text\n",
    "    job_title.append(title)\n",
    "\n",
    "location_tags=driver.find_elements(By.XPATH,\"//li[@class='fleft br2 placeHolderLi location']\")\n",
    "for i in location_tags[0:10]:\n",
    "    location=i.text\n",
    "    job_location.append(location)\n",
    "\n",
    "\n",
    "company_tags=driver.find_elements(By.XPATH,\"//a[@class='subTitle ellipsis fleft']\")\n",
    "for i in company_tags[0:10]:\n",
    "    company=i.text\n",
    "    company_name.append(company)\n",
    "\n",
    "experience_tags=driver.find_elements(By.XPATH,\"//li[@class='fleft br2 placeHolderLi experience']//span\")\n",
    "for i in experience_tags[0:10]:\n",
    "    exp=i.text\n",
    "    experience_required.append(exp) "
   ]
  },
  {
   "cell_type": "code",
   "execution_count": null,
   "id": "f41dba98",
   "metadata": {},
   "outputs": [],
   "source": [
    "print(len(job_title),len(job_location),len(company_name),len(experience_required))"
   ]
  },
  {
   "cell_type": "code",
   "execution_count": null,
   "id": "c896b2a9",
   "metadata": {},
   "outputs": [],
   "source": [
    "df=pd.DataFrame({'Job_title':job_title,'Job_location':job_location,'Company_name':company_name,'Experience_required':experience_required})\n",
    "df"
   ]
  },
  {
   "cell_type": "markdown",
   "id": "e5af5142",
   "metadata": {},
   "source": [
    "Scrape data of first 100 sunglasses listings on flipkart.com. You have to scrape four attributes:\n",
    "1. Brand\n",
    "2. ProductDescription\n",
    "3. Price\n",
    "To scrape the data you have to go through following steps:\n",
    "1. Go to Flipkart webpage by url : https://www.flipkart.com/\n",
    "2. Enter “sunglasses” in the search field where “search for products, brands and more” is written and\n",
    "click the search icon\n",
    "3. After that you will reach to the page having a lot of sunglasses. From this page you can scrap the\n",
    "required data as usual4.\n",
    "After scraping data from the first page, go to the “Next” Button at the bottom other page , then\n",
    "click on it.\n",
    "5. Now scrape data from this page as usual\n",
    "6. Repeat this until you get data for 100 sunglasses\n"
   ]
  },
  {
   "cell_type": "code",
   "execution_count": null,
   "id": "7177ea7b",
   "metadata": {},
   "outputs": [],
   "source": [
    "import selenium\n",
    "import pandas as pd\n",
    "from selenium import webdriver\n",
    "import warnings\n",
    "warnings.filterwarnings('ignore')\n",
    "from selenium.common.exceptions import StaleElementReferenceException, NoSuchElementException\n",
    "from selenium.webdriver.common.by import By\n",
    "import time"
   ]
  },
  {
   "cell_type": "code",
   "execution_count": null,
   "id": "8c21190a",
   "metadata": {},
   "outputs": [],
   "source": [
    "driver=webdriver.Chrome(r'E:\\google phots\\chromedriver_win32\\chromedriver.exe')"
   ]
  },
  {
   "cell_type": "code",
   "execution_count": null,
   "id": "f767dac1",
   "metadata": {},
   "outputs": [],
   "source": [
    "driver.get(\"https://www.flipkart.com/\")"
   ]
  },
  {
   "cell_type": "code",
   "execution_count": null,
   "id": "f65d920f",
   "metadata": {},
   "outputs": [],
   "source": [
    "sunglasses=driver.find_element(By.CLASS_NAME,\"_3704LK\")\n",
    "sunglasses.send_keys('sunglasses')\n",
    "search=driver.find_element(By.CLASS_NAME,\"L0Z3Pu\")\n",
    "search.click()"
   ]
  },
  {
   "cell_type": "code",
   "execution_count": null,
   "id": "b0d637b6",
   "metadata": {},
   "outputs": [],
   "source": [
    "brand=[]\n",
    "prod=[]\n",
    "price=[]\n",
    "time.sleep(3) "
   ]
  },
  {
   "cell_type": "code",
   "execution_count": null,
   "id": "708d2199",
   "metadata": {},
   "outputs": [],
   "source": [
    "        start=0\n",
    "        end=3\n",
    "        for page in range(start,end):\n",
    "            brand=driver.find_elements(By.XPATH,\"//div[@class='_2WkVRV']\")\n",
    "            for i in brand[0:100]:\n",
    "                brand.append(i.text)\n",
    "            prod=driver.find_elements(By.XPATH,\"//a[@class='IRpwTa']\")\n",
    "            for i in prod[0:100]:\n",
    "                prod.append(i.text)    \n",
    "            price=driver.find_elements(By.XPATH,\"//div[@class='_30jeq3']\")\n",
    "            for i in price[0:100]:\n",
    "                price.append(i.text)\n",
    "            next_button=driver.find_elements(By.XPATH,\"//a[@class='_1LKTO3']\") \n",
    "             "
   ]
  },
  {
   "cell_type": "code",
   "execution_count": null,
   "id": "f6a9bdb8",
   "metadata": {},
   "outputs": [],
   "source": [
    "print(len(prod),len(brand),len(price))"
   ]
  },
  {
   "cell_type": "code",
   "execution_count": null,
   "id": "27b2af4b",
   "metadata": {
    "scrolled": true
   },
   "outputs": [],
   "source": [
    "df=pd.DataFrame({'Brand':brand,'Prod':prod,'Price':price})\n",
    "df"
   ]
  },
  {
   "cell_type": "markdown",
   "id": "85a47877",
   "metadata": {},
   "source": [
    "# Q5 Scrape 100 reviews data from flipkart.com for iphone11 phone  \n",
    "Rating\n",
    "Review_summary\n",
    "Full review"
   ]
  },
  {
   "cell_type": "code",
   "execution_count": null,
   "id": "6b4b4f98",
   "metadata": {},
   "outputs": [],
   "source": [
    "driver=webdriver.Chrome(r'E:\\google phots\\chromedriver_win32\\chromedriver.exe')"
   ]
  },
  {
   "cell_type": "code",
   "execution_count": null,
   "id": "cc73a088",
   "metadata": {},
   "outputs": [],
   "source": [
    "driver.get(\"https://www.flipkart.com/apple-iphone-11-black-64-gb/product-reviews/itm4e5041ba101fd?pid=MOBFWQ6BXGJCEYNY&lid=LSTMOBFWQ6BXGJCEYNYZXSHRJ&marketplace=FLIPKART\")"
   ]
  },
  {
   "cell_type": "code",
   "execution_count": null,
   "id": "684aa73f",
   "metadata": {},
   "outputs": [],
   "source": [
    "short_review=[]\n",
    "complete_review=[]\n",
    "star_rating=[]\n"
   ]
  },
  {
   "cell_type": "code",
   "execution_count": null,
   "id": "c87ea958",
   "metadata": {},
   "outputs": [],
   "source": [
    "iphone11=driver.find_element(By.CLASS_NAME,\"CXW8mj\")\n",
    "iphone11.send_keys('iphone11')\n",
    "time.sleep(5)"
   ]
  },
  {
   "cell_type": "code",
   "execution_count": null,
   "id": "cdd4be7f",
   "metadata": {},
   "outputs": [],
   "source": [
    "start=0\n",
    "end=10\n",
    "for page in range(start,end):\n",
    "        short_review=driver.find_elements(By.XPATH,\"//p[@class='_2-N8zT']\")\n",
    "    for i in short_review[0:200]:\n",
    "        short_review.append(i.text)\n",
    "    complete_review=driver.find_elements(By.XPATH,\"//div[@class='t-ZTKy']\")\n",
    "    for i in complete_review[0:200]:\n",
    "        complete_review.append(i.text)    \n",
    "    star_rating=driver.find_elements(By.XPATH,\"//div[@class='_3LWZlK _1BLPMq']\")\n",
    "    for i in star_rating[0:200]:\n",
    "        star_rating.append(i.text)\n",
    "        nextbuton=driver.find_elements(By.XPATH,\"//a[@class='_1LKTO3']\") "
   ]
  },
  {
   "cell_type": "code",
   "execution_count": null,
   "id": "9f8f0e96",
   "metadata": {},
   "outputs": [],
   "source": [
    "print(len(star_rating),len(short_review),len(complete_review))"
   ]
  },
  {
   "cell_type": "code",
   "execution_count": null,
   "id": "de3326e2",
   "metadata": {},
   "outputs": [],
   "source": [
    "df=pd.DataFrame({'star_rating':star_rating,'Review_summary':short_review,'Full_summary':complete_review})\n",
    "df"
   ]
  },
  {
   "cell_type": "code",
   "execution_count": null,
   "id": "f4e944c9",
   "metadata": {},
   "outputs": [],
   "source": [
    "urls=[]\n",
    "short_review=[]\n",
    "complete_review=[]\n",
    "stars=[]\n",
    "time.sleep(2)\n",
    "url_1 = driver.find_elements(By.XPATH,\"//a[@class='ge-49M _2Kfbh8']\")\n",
    "for i in url_1:\n",
    "    urls.append(i.get_attribute('href'))\n",
    "url_2 = driver.find_elements(By.XPATH,\"//a[@class='ge-49M']\")\n",
    "for i in url_2:\n",
    "    urls.append(i.get_attribute('href'))\n",
    "time.sleep(4)"
   ]
  },
  {
   "cell_type": "code",
   "execution_count": null,
   "id": "a61205ca",
   "metadata": {},
   "outputs": [],
   "source": [
    "    start=0\n",
    "    end=10\n",
    "    for page in range(start,end):\n",
    "        short_review=driver.find_elements(By.XPATH,\"//p[@class='_2-N8zT']\")\n",
    "    for i in short_review[0:200]:\n",
    "        short_review.append(i.text)\n",
    "    complete_review=driver.find_elements(By.XPATH,\"//div[@class='t-ZTKy']\")\n",
    "    for i in complete_review[0:200]:\n",
    "        complete_review.append(i.text)    \n",
    "    star_rating=driver.find_elements(By.XPATH,\"//div[@class='_3LWZlK _1BLPMq']\")\n",
    "    for i in star_rating[0:200]:\n",
    "        star_rating.append(i.text)\n",
    "nextbuton=driver.find_elements(By.XPATH,\"//a[@class='_1LKTO3']\") \n"
   ]
  },
  {
   "cell_type": "code",
   "execution_count": null,
   "id": "830823b6",
   "metadata": {},
   "outputs": [],
   "source": [
    "print(len(star_rating),len(short_review),len(complete_review))"
   ]
  },
  {
   "cell_type": "code",
   "execution_count": null,
   "id": "dc31c055",
   "metadata": {},
   "outputs": [],
   "source": [
    "df=pd.DataFrame({'star_rating':star_rating,'Review_summary':short_review,'Full_summary':complete_review})\n",
    "df"
   ]
  },
  {
   "cell_type": "markdown",
   "id": "3d754789",
   "metadata": {},
   "source": [
    "Q6: Scrape data for first 100 sneakers you find when you visit flipkart.com and search for “sneakers” in the\n",
    "search field.\n",
    "You have to scrape 4 attributes of each sneaker:\n",
    "1. Brand\n",
    "2. ProductDescription\n",
    "3. Price\n"
   ]
  },
  {
   "cell_type": "code",
   "execution_count": null,
   "id": "dc14d80b",
   "metadata": {},
   "outputs": [],
   "source": [
    "driver=webdriver.Chrome(r'E:\\google phots\\chromedriver_win32\\chromedriver.exe')\n",
    "driver.get(\"https://www.flipkart.com/\")"
   ]
  },
  {
   "cell_type": "code",
   "execution_count": null,
   "id": "7160d51a",
   "metadata": {},
   "outputs": [],
   "source": [
    "Sneakers=driver.find_element(By.CLASS_NAME,\"_3704LK\")\n",
    "Sneakers.send_keys('Sneakers')\n",
    "pop_up=driver.find_element(By.XPATH,\"//button[@class='_2KpZ6l _2doB4z']\")\n",
    "pop_up.click()\n",
    "search=driver.find_element(By.CLASS_NAME,\"L0Z3Pu\")\n",
    "search.click()"
   ]
  },
  {
   "cell_type": "code",
   "execution_count": null,
   "id": "de0882dd",
   "metadata": {},
   "outputs": [],
   "source": [
    "brand=[]\n",
    "prod=[]\n",
    "price=[]\n",
    "time.sleep(3)"
   ]
  },
  {
   "cell_type": "code",
   "execution_count": null,
   "id": "3c988f64",
   "metadata": {},
   "outputs": [],
   "source": [
    "\n",
    "start=0\n",
    "end=5\n",
    "for page in range(start,end):\n",
    "        brand=driver.find_elements(By.XPATH,\"//div[@class='_2WkVRV']\")\n",
    "        for i in brand[0:100]:\n",
    "            brand.append(i.text)\n",
    "        prod=driver.find_elements(By.XPATH,\"//a[@class='IRpwTa']\")\n",
    "        for i in prod[0:100]:\n",
    "            prod.append(i.text)    \n",
    "        price=driver.find_elements(By.XPATH,\"//div[@class='_30jeq3']\")\n",
    "        for i in price[0:100]:\n",
    "             price.append(i.text)\n",
    "next_button=driver.find_elements(By.XPATH,\"//a[@class='_1LKTO3']\")\n",
    "try:\n",
    "            driver.get(nxt_button[1].get_attribute('href'))\n",
    "except:\n",
    "            driver.get(nxt_button[0].get_attribute('href'))"
   ]
  },
  {
   "cell_type": "code",
   "execution_count": null,
   "id": "373fa289",
   "metadata": {},
   "outputs": [],
   "source": [
    "print(len(brand),len(prod),len(price))"
   ]
  },
  {
   "cell_type": "code",
   "execution_count": null,
   "id": "9ece80d2",
   "metadata": {},
   "outputs": [],
   "source": [
    "df=pd.DataFrame({'Brand':brand,'Prod':prod,'Price':price})\n",
    "df"
   ]
  },
  {
   "cell_type": "markdown",
   "id": "07a7e931",
   "metadata": {},
   "source": [
    "Q7: Go to webpage https://www.amazon.in/Enter “Laptop” in the search field and then click the search icon.Then set CPU Type filter to “Intel Core i7” After setting the filters scrape first 10 laptops data.You have to scrape 3 attributes for each laptop:\n",
    "\n",
    "title\n",
    "Ratings\n",
    "Price# 8)Amazon Laptop"
   ]
  },
  {
   "cell_type": "code",
   "execution_count": null,
   "id": "a9f6bddb",
   "metadata": {},
   "outputs": [],
   "source": [
    "driver=webdriver.Chrome(r'E:\\google phots\\chromedriver_win32\\chromedriver.exe')\n",
    "driver.get(\"https://www.amazon.in/\")"
   ]
  },
  {
   "cell_type": "code",
   "execution_count": null,
   "id": "ff998318",
   "metadata": {},
   "outputs": [],
   "source": [
    "laptop=driver.find_element(By.XPATH,\"//div[@class='nav-search-field ']//input\")\n",
    "laptop.send_keys('Laptop')\n",
    "\n",
    "search=driver.find_element(By.XPATH,\"/html/body/div[1]/header/div/div[1]/div[2]/div/form/div[3]/div/span/input\")\n",
    "search.click()\n",
    "\n",
    "# code to filter i7 CPu-\n",
    "cpu_filter1=driver.find_element(By.XPATH,\"/html/body/div[1]/div[2]/div[1]/div[2]/div/div[3]/span/div[1]/div/div/div[5]/ul[4]/li[12]/span/a/div\")\n",
    "cpu_filter1.click()\n"
   ]
  },
  {
   "cell_type": "code",
   "execution_count": null,
   "id": "53ab8481",
   "metadata": {},
   "outputs": [],
   "source": [
    "Title=[]\n",
    "price=[]\n",
    "Ratings=[]\n",
    "Rating=[]\n",
    "start=0\n",
    "end=1\n",
    "for page in range(start,end):\n",
    "    title=driver.find_elements(By.XPATH,\"//h2[@class='a-size-mini a-spacing-none a-color-base s-line-clamp-2']\")\n",
    "    for i in title[0:10]:\n",
    "        Title.append(i.text) \n",
    "    prices=driver.find_elements(By.XPATH,'//span[@class=\"a-price-whole\"]')\n",
    "    for i in prices[0:10]:\n",
    "        price.append(i.text)    "
   ]
  },
  {
   "cell_type": "code",
   "execution_count": null,
   "id": "b1db6704",
   "metadata": {},
   "outputs": [],
   "source": [
    "rating"
   ]
  },
  {
   "cell_type": "code",
   "execution_count": null,
   "id": "3ba8bdb8",
   "metadata": {},
   "outputs": [],
   "source": [
    "print(len(Title),len(price),len(rating))"
   ]
  },
  {
   "cell_type": "code",
   "execution_count": null,
   "id": "1c5af1c5",
   "metadata": {},
   "outputs": [],
   "source": [
    "df=pd.DataFrame({'Title':Title,'Price':price,'Ratings':rating})\n",
    "df"
   ]
  },
  {
   "cell_type": "markdown",
   "id": "c98e3ae4",
   "metadata": {},
   "source": [
    "Q8- Scrap Top 1000 Quotes Of All Time This task will be done in following steps:\n",
    "1.First get the webpage https://www.azquotes.com/\n",
    "2. Click on Top Quotes\n",
    "3. Than scrap a) Quote b) Author c) Type Of Quote"
   ]
  },
  {
   "cell_type": "code",
   "execution_count": null,
   "id": "0be0a585",
   "metadata": {},
   "outputs": [],
   "source": [
    "# Let's import all required libraries\n",
    "import selenium\n",
    "from selenium import webdriver\n",
    "import pandas as pd\n",
    "import warnings\n",
    "warnings.filterwarnings(\"ignore\")\n",
    "import time\n",
    "from selenium.webdriver.common.by import By\n",
    "from selenium.webdriver.common.action_chains import ActionChains"
   ]
  },
  {
   "cell_type": "code",
   "execution_count": null,
   "id": "621ca4b7",
   "metadata": {},
   "outputs": [],
   "source": [
    "driver=webdriver.Chrome(r'E:\\google phots\\chromedriver_win32\\chromedriver.exe')"
   ]
  },
  {
   "cell_type": "code",
   "execution_count": null,
   "id": "8a460124",
   "metadata": {},
   "outputs": [],
   "source": [
    "driver.get('https://www.azquotes.com/')"
   ]
  },
  {
   "cell_type": "code",
   "execution_count": null,
   "id": "ee41a785",
   "metadata": {},
   "outputs": [],
   "source": [
    "# Click on Top Quotes\n",
    "search_button=driver.find_element(By.XPATH,\"/html/body/div[1]/div[1]/div[1]/div/div[3]/ul/li[5]/a\")\n",
    "search_button.click()"
   ]
  },
  {
   "cell_type": "code",
   "execution_count": null,
   "id": "fb1b71e9",
   "metadata": {},
   "outputs": [],
   "source": [
    "# Details\n",
    "\n",
    "Quote=[]\n",
    "Author=[]\n",
    "type_of_quote=[]\n",
    "\n",
    "Details=[i.text.split('\\n') for i in driver.find_elements(By.XPATH,\"//div[@class='wrap-block']\")]\n",
    "\n",
    "for i in Details:\n",
    "    Quote.append(i[0])\n",
    "    Author.append(i[1])\n",
    "    type_of_quote.append(i[2])"
   ]
  },
  {
   "cell_type": "code",
   "execution_count": null,
   "id": "ae17d740",
   "metadata": {},
   "outputs": [],
   "source": [
    "data=pd.DataFrame({'Quotes':Quote,'Author':Author,'Type of quote':type_of_quote })\n",
    "data"
   ]
  },
  {
   "cell_type": "markdown",
   "id": "222e5ae3",
   "metadata": {},
   "source": [
    "09write python program to display list of respected former Prime Ministers of India(i.e. Name, Born-Dead, Term of office, Remarks) from https://www.jagranjosh.com/.\n",
    "\n",
    "This task will be done in following steps:\n",
    "\n",
    "First get the webpage https://www.jagranjosh.com/\n",
    "Then You have to click on the GK option\n",
    "Then click on the List of all Prime Ministers of India\n",
    "Then scrap the mentioned data and make the DataFrame"
   ]
  },
  {
   "cell_type": "code",
   "execution_count": null,
   "id": "e594fa4c",
   "metadata": {},
   "outputs": [],
   "source": [
    "driver=webdriver.Chrome(r'E:\\google phots\\chromedriver_win32\\chromedriver.exe')"
   ]
  },
  {
   "cell_type": "code",
   "execution_count": null,
   "id": "f6676a1e",
   "metadata": {},
   "outputs": [],
   "source": [
    "\n",
    "# Opening the homepage of hostelworld.com\n",
    "url = \"https://www.jagranjosh.com/\"\n",
    "driver.get(url)"
   ]
  },
  {
   "cell_type": "code",
   "execution_count": null,
   "id": "4cba425f",
   "metadata": {},
   "outputs": [],
   "source": [
    "# do click in search button\n",
    "gk_btn = driver.find_element(By.XPATH,'//*[@id=\"1540978020504\"]/div[1]/header/div[3]/ul/li[9]/a')\n",
    "gk_btn.click()"
   ]
  },
  {
   "cell_type": "code",
   "execution_count": null,
   "id": "bf6bda6b",
   "metadata": {},
   "outputs": [],
   "source": [
    "pm_btn = driver.find_element(By.XPATH,'//*[@id=\"popluarGK\"]/ul/li[2]/a')\n",
    "pm_btn.click()"
   ]
  },
  {
   "cell_type": "code",
   "execution_count": null,
   "id": "276ad0eb",
   "metadata": {},
   "outputs": [],
   "source": [
    "Name= []\n",
    "Born_Dead = []\n",
    "Terms_of_office = []\n",
    "Remarks = []"
   ]
  },
  {
   "cell_type": "code",
   "execution_count": null,
   "id": "3bd2e1db",
   "metadata": {},
   "outputs": [],
   "source": [
    "#name\n",
    "names = driver.find_elements(By.XPATH,'//div[@class=\"table-box\"]/table/tbody/tr/td[2]/p')\n",
    "for name in names:\n",
    "    Name.append(name.text)\n",
    "    \n",
    "\n",
    "#borndead\n",
    "born_dead = driver.find_elements(By.XPATH,'//div[@class=\"table-box\"]/table/tbody/tr/td[3]/p')\n",
    "for i in born_dead:\n",
    "    Born_Dead.append(i.text)\n",
    "    \n",
    "\n",
    "#terms_of_office\n",
    "terms_of_office = driver.find_elements(By.XPATH,'//div[@class=\"table-box\"]/table/tbody/tr/td[4]')\n",
    "for i in terms_of_office:\n",
    "    Terms_of_office.append(i.text.replace('\\n', ''))\n",
    "    \n",
    "    \n",
    "#Remarks\n",
    "remarks = driver.find_elements(By.XPATH,'//div[@class=\"table-box\"]/table/tbody/tr/td[5]/p')\n",
    "for i in remarks:\n",
    "    Remarks.append(i.text)\n",
    "    "
   ]
  },
  {
   "cell_type": "code",
   "execution_count": null,
   "id": "7c448235",
   "metadata": {},
   "outputs": [],
   "source": [
    "len(Name),len(Born_Dead),len(Terms_of_office),len(Remarks)"
   ]
  },
  {
   "cell_type": "code",
   "execution_count": null,
   "id": "98754343",
   "metadata": {},
   "outputs": [],
   "source": [
    "df=pd.DataFrame({\"Names\":Name,\"Born-Dead\":Born_Dead,\"Term of office\":Terms_of_office,\n",
    "                \"Remarks\":Remarks})\n",
    "df"
   ]
  },
  {
   "cell_type": "markdown",
   "id": "627fb77b",
   "metadata": {},
   "source": [
    "Q10: Write s python program to display list of 50 Most expensive cars in the world (i.e. Company name, Model name and Price and Description) from https://www.motor1.com/ This task will be done in following steps:\n",
    "\n",
    "First get the webpage https://www.motor1.com/ Then You have to click on the List option from Dropdown menu on left side. Then click on 50 most expensive cars in the world.. Then scrap the mentioned data and make the Dataframe"
   ]
  },
  {
   "cell_type": "code",
   "execution_count": null,
   "id": "35387115",
   "metadata": {},
   "outputs": [],
   "source": [
    "driver=webdriver.Chrome(r'E:\\google phots\\chromedriver_win32\\chromedriver.exe')"
   ]
  },
  {
   "cell_type": "code",
   "execution_count": null,
   "id": "de19f1a2",
   "metadata": {},
   "outputs": [],
   "source": [
    "url=\" https://www.motor1.com/\"\n",
    "driver.get(url)"
   ]
  },
  {
   "cell_type": "code",
   "execution_count": null,
   "id": "91bb47b1",
   "metadata": {},
   "outputs": [],
   "source": [
    "cl=driver.find_element(By.XPATH,'//div[@class=\"m1-hamburger-button\"]')\n",
    "cl.click()"
   ]
  },
  {
   "cell_type": "code",
   "execution_count": null,
   "id": "3fbe9724",
   "metadata": {},
   "outputs": [],
   "source": [
    "#CLICKING ON THE LISTS TAB-\n",
    "listy=driver.find_element(By.XPATH,'/html/body/div[3]/div[1]/div[3]/ul/li[4]/a')\n",
    "listy.click()"
   ]
  },
  {
   "cell_type": "code",
   "execution_count": null,
   "id": "a9e5eefb",
   "metadata": {},
   "outputs": [],
   "source": [
    "#CLICKING ON 50 MOST EXPENSIVE CARS IN THE WORLD TAB=\n",
    "exp=driver.find_element(By.XPATH,\"//div[@class='text-box']/h3/a[contains(@href,'-new-cars-ever')]\")\n",
    "exp.click()"
   ]
  },
  {
   "cell_type": "code",
   "execution_count": null,
   "id": "f3762c28",
   "metadata": {},
   "outputs": [],
   "source": [
    "cars = []\n",
    "names_50expcars = driver.find_elements(By.XPATH,\"//h3[@class='subheader']\")\n",
    "for i in names_50expcars:\n",
    "        cars.append(i.text)\n",
    "cars.pop()\n",
    "        \n",
    "        \n",
    "prices = []\n",
    "prices_50expcars = driver.find_elements(By.XPATH,\"//strong\")\n",
    "\n",
    "for j in prices_50expcars:\n",
    "        prices.append(j.text)\n",
    "prices.pop()"
   ]
  },
  {
   "cell_type": "code",
   "execution_count": null,
   "id": "24e40170",
   "metadata": {},
   "outputs": [],
   "source": [
    "#Description-\n",
    "\n",
    "description = []\n",
    "description_50expcars = driver.find_elements(By.XPATH,'/html/body/div[2]/div[7]/div[2]/div[1]/div[2]/div[1]/p')\n",
    "for k in description_50expcars:\n",
    "        description.append(k.text)\n",
    "        \n",
    "time.sleep(3)\n",
    "\n",
    "#for removing the price row whoch is also included in descroption data-\n",
    "desc_list=[]\n",
    "for i in range(4,103,2):\n",
    "    desc_list.append(description[i])"
   ]
  },
  {
   "cell_type": "code",
   "execution_count": null,
   "id": "6a63229a",
   "metadata": {},
   "outputs": [],
   "source": [
    "most_expensive=pd.DataFrame({\"NAME OF THE CAR\":cars,\"PRICE OF THE CAR IN ($)\":prices,\"Description OF CAR\":desc_list})"
   ]
  },
  {
   "cell_type": "code",
   "execution_count": null,
   "id": "f3679e7d",
   "metadata": {},
   "outputs": [],
   "source": [
    "most_expensive"
   ]
  },
  {
   "cell_type": "code",
   "execution_count": null,
   "id": "cdc88540",
   "metadata": {},
   "outputs": [],
   "source": [
    "\n",
    "\n",
    "\n",
    "\n",
    "\n",
    "\n",
    "\n",
    "\n",
    "\n",
    "\n",
    "\n",
    "\n",
    "\n",
    "\n",
    "\n",
    "\n",
    "\n",
    "\n",
    "\n",
    "\n",
    "\n",
    "\n",
    "\n",
    "\n",
    "\n",
    "\n",
    "\n",
    "\n",
    "\n",
    "\n",
    "\n",
    "\n",
    "\n",
    "\n",
    "\n",
    "\n",
    "\n",
    "\n",
    "\n",
    "\n",
    "\n",
    "\n",
    "\n",
    "\n",
    "\n",
    "\n"
   ]
  }
 ],
 "metadata": {
  "kernelspec": {
   "display_name": "Python 3 (ipykernel)",
   "language": "python",
   "name": "python3"
  },
  "language_info": {
   "codemirror_mode": {
    "name": "ipython",
    "version": 3
   },
   "file_extension": ".py",
   "mimetype": "text/x-python",
   "name": "python",
   "nbconvert_exporter": "python",
   "pygments_lexer": "ipython3",
   "version": "3.9.7"
  }
 },
 "nbformat": 4,
 "nbformat_minor": 5
}
